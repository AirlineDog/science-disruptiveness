{
 "cells": [
  {
   "cell_type": "markdown",
   "id": "aeaf23de",
   "metadata": {},
   "source": [
    "# Is Science Becoming Less Disruptive?\n",
    "\n",
    "A [recent paper in Nature](https://www.nature.com/articles/s41586-022-05543-x) created a stir in the scientific community, arguing that science is becoming less disruptive over time. According to the study, there are fewer groundbreaking papers in recent years. It appears that trailblazers are rare and that most research tends to build and expand existing research rather than opening up new paths of inquiry.\n",
    "\n",
    "Needless to say, the paper created quite a bit of head-scratching: if science is becoming less disruptive, what, or who, is to blame? Could it be that the low hanging fruits have already been picked? That modern science requires over-specialisation, which entails working within a field of study, rather than exploring new vistas? The discussion raged even in mainstream media like [The Economist](https://www.economist.com/science-and-technology/2023/01/04/papers-and-patents-are-becoming-less-disruptive), [The New York Times](https://www.nytimes.com/2023/01/17/science/science-breakthroughs-disruption.html), [The Atlantic](https://www.theatlantic.com/newsletters/archive/2023/01/academia-research-scientific-papers-progress/672694/); then Nature returned with an [editorial on what it means and whether it matters](https://www.nature.com/articles/d41586-023-00183-1).\n",
    "\n",
    "The debate will go on; in the meantime, we will try to make predictions on paper disruptivness.\n",
    "\n",
    "---\n",
    "\n",
    "> Alexios Doganis <br />\n",
    "> Department of Management Science and Technology <br />\n",
    "> Athens University of Economics and Business <br />\n",
    "> t8190042@aueb.gr"
   ]
  },
  {
   "cell_type": "markdown",
   "id": "e60848f8",
   "metadata": {},
   "source": [
    "### Predicting CD5\n",
    "\n",
    "Disruption is measured by a metric, the [CD index](http://russellfunk.org/cdindex/), devised by the authors of the study. The CD is calculated over a time window, say five years (then it's called CD5), and it measures how likely is a work that cites a scientific paper to cite the works *that* paper cites. If follow-up work does not cite a paper's cited predecessors then it's likely that the paper has broken new ground.\n",
    "\n",
    "The CD index can be calculated for each paper, by finding the works that cite it and the works that the paper itself cites. You can find details in the Nature paper and also in [the original paper that introduced the metric](http://russellfunk.org/cdindex/static/papers/funk_ms_2017.pdf). But then an interesting question arises: is it possible to *predict* a paper's CD5 index by using only the paper itself, information on its authors, and information on its citations, without looking into the future work that cites it?\n",
    "\n",
    "The data tha we will use are in the form of an [SQLite](https://www.sqlite.org/) database. It is derived from the excellent [alexandria3k package](https://github.com/dspinellis/alexandria3k) written by [Professor Diomidis Spinellis](https://www2.dmst.aueb.gr/dds/). You can easily find the schema of the data with the standard SQLite facilities and you can also read the [documentation of alexandria3k](https://dspinellis.github.io/alexandria3k/). In particular, the data comprises part of the [publications graph](https://dspinellis.github.io/alexandria3k/cli-eg.html#publications-graph) for a 1% sample of all CrossRef available publications that have abstracts; an additional table in the database contains the CD5 index for papers.\n",
    "\n"
   ]
  },
  {
   "cell_type": "markdown",
   "id": "23c32982",
   "metadata": {},
   "source": [
    "We will first import the necessery libraries."
   ]
  },
  {
   "cell_type": "code",
   "execution_count": 1,
   "id": "a32e0961",
   "metadata": {},
   "outputs": [],
   "source": [
    "import sqlite3\n",
    "import pandas as pd\n",
    "import numpy as np\n",
    "\n",
    "import matplotlib.pyplot as plt\n",
    "import seaborn as sns\n",
    "\n",
    "from sklearn import tree\n",
    "from sklearn.tree import DecisionTreeRegressor\n",
    "from sklearn.ensemble import VotingRegressor\n",
    "from sklearn.ensemble import StackingRegressor\n",
    "from sklearn.model_selection import train_test_split\n",
    "from sklearn.model_selection import GridSearchCV\n",
    "from sklearn.model_selection import cross_val_score, KFold\n",
    "from sklearn.metrics import mean_absolute_error\n",
    "from sklearn.linear_model import LinearRegression\n",
    "from sklearn.feature_extraction.text import CountVectorizer\n",
    "\n",
    "from nltk.stem.wordnet import WordNetLemmatizer\n",
    "from nltk.tokenize import WhitespaceTokenizer\n",
    "\n",
    "import xgboost as xgb\n",
    "import lightgbm as lgb\n",
    "\n",
    "from scipy.stats import sem\n",
    "from io import StringIO\n",
    "from IPython.display import Image  \n",
    "import pydotplus\n",
    "\n",
    "import tensorflow as tf\n",
    "from tensorflow import keras\n",
    "from tensorflow.keras import layers\n",
    "from tensorflow.keras.layers.experimental import preprocessing\n"
   ]
  },
  {
   "cell_type": "markdown",
   "id": "638fa635",
   "metadata": {},
   "source": [
    "As stated above, the data used here are in a SQLite form and contain 1% sample of all CrossRef available publications that have abstracts. Even this small percentage is very big to upload in github (5GB). For this reason we are going to present the SQL used to extract the data and then convert the tables into pyhton [pickles](https://docs.python.org/3/library/pickle.html) which are way smaller in size."
   ]
  },
  {
   "cell_type": "markdown",
   "id": "82f246bc",
   "metadata": {},
   "source": [
    "First we connect with the sqlite database to obtain the data.\n",
    "```python\n",
    "con = sqlite3.connect('./publications_graph.db')\n",
    "```\n",
    "\n",
    "We need to fetch the database table names, so we can see the schema.\n",
    "```python\n",
    "cur = con.cursor()\n",
    "cur.execute(\"SELECT name FROM sqlite_master WHERE type='table';\")\n",
    "print(f\"Table names : {cur.fetchall()}\")\n",
    "```\n",
    "Which results in:\n",
    "\n",
    "```Table names : [('works',), ('work_references',), ('author_affiliations',), ('work_subjects',), ('work_authors',), ('cdindex',)]```\n",
    "\n",
    "Now we are going to load everything into pandas Dataframes\n",
    "```python\n",
    "works = pd.read_sql_query('SELECT * FROM works', con)\n",
    "work_references = pd.read_sql_query('SELECT * FROM work_references;', con)\n",
    "author_affiliations = pd.read_sql_query('SELECT * FROM author_affiliations;', con)\n",
    "work_subjects = pd.read_sql_query('SELECT * FROM work_subjects;', con)\n",
    "work_authors = pd.read_sql_query('SELECT * FROM work_authors;', con)\n",
    "cdindex = pd.read_sql_query('SELECT * FROM cdindex ' +\n",
    "                            'WHERE cdindex IS NOT NULL AND doi IN (SELECT doi FROM works);', con)\n",
    "```\n",
    "\n",
    "We close the connection to release resources\n",
    "```python\n",
    "con.close()\n",
    "```\n",
    "\n",
    "And we convert everything to Pickles\n",
    "\n",
    "```python\n",
    "author_affiliations.to_pickle(\"./data/author_affiliations.pkl\")  \n",
    "work_subjects.to_pickle(\"./data/work_subjects.pkl\")  \n",
    "work_authors.to_pickle(\"./data/work_authors.pkl\")  \n",
    "cdindex.to_pickle(\"./data/cd.pkl\")  \n",
    "```\n",
    "\n",
    "Even as a pickle works and work_references Dataframes are too big to upload on github so we will split them in parts.\n",
    "\n",
    "We difine the splitting function.\n",
    "\n",
    "```python\n",
    "def split_and_save_dataframe(df, filename_prefix, num_parts):\n",
    "    chunk_size = len(df) // num_parts\n",
    "    remainder = len(df) % num_parts\n",
    "\n",
    "    for i in range(num_parts):\n",
    "        start_index = i * chunk_size\n",
    "        end_index = (i + 1) * chunk_size\n",
    "\n",
    "        # Adjust the end index for the last part if there's a remainder\n",
    "        if i == num_parts - 1:\n",
    "            end_index += remainder\n",
    "\n",
    "        df_part = df[start_index:end_index]\n",
    "        filename = f\"./data/{filename_prefix}_part{i+1}.pkl\"\n",
    "        df_part.to_pickle(filename)\n",
    "```\n",
    "\n",
    "And we apply it on our data.\n",
    "\n",
    "```python\n",
    "split_and_save_dataframe(work_references, \"work_references\", 3)\n",
    "split_and_save_dataframe(works, \"works\", 5)\n",
    "```"
   ]
  },
  {
   "cell_type": "markdown",
   "id": "8070080f",
   "metadata": {},
   "source": [
    "To read the data now we are just importing the pickles we made."
   ]
  },
  {
   "cell_type": "markdown",
   "id": "83c16db4",
   "metadata": {},
   "source": [
    "To do that we need a function that recombines the data."
   ]
  },
  {
   "cell_type": "code",
   "execution_count": 2,
   "id": "26f14306",
   "metadata": {},
   "outputs": [],
   "source": [
    "def read_and_combine_pickle_files(filename_prefix, num_parts):\n",
    "    dataframes = []\n",
    "\n",
    "    for i in range(num_parts):\n",
    "        filename = f\"./data/{filename_prefix}_part{i+1}.pkl\"\n",
    "        df = pd.read_pickle(filename)\n",
    "        dataframes.append(df)\n",
    "\n",
    "    combined_df = pd.concat(dataframes, ignore_index=True)\n",
    "\n",
    "    return combined_df"
   ]
  },
  {
   "cell_type": "code",
   "execution_count": 3,
   "id": "862a9251",
   "metadata": {},
   "outputs": [
    {
     "data": {
      "text/html": [
       "<div>\n",
       "<style scoped>\n",
       "    .dataframe tbody tr th:only-of-type {\n",
       "        vertical-align: middle;\n",
       "    }\n",
       "\n",
       "    .dataframe tbody tr th {\n",
       "        vertical-align: top;\n",
       "    }\n",
       "\n",
       "    .dataframe thead th {\n",
       "        text-align: right;\n",
       "    }\n",
       "</style>\n",
       "<table border=\"1\" class=\"dataframe\">\n",
       "  <thead>\n",
       "    <tr style=\"text-align: right;\">\n",
       "      <th></th>\n",
       "      <th>id</th>\n",
       "      <th>published_month</th>\n",
       "      <th>abstract</th>\n",
       "      <th>title</th>\n",
       "      <th>published_day</th>\n",
       "      <th>doi</th>\n",
       "      <th>published_year</th>\n",
       "    </tr>\n",
       "  </thead>\n",
       "  <tbody>\n",
       "    <tr>\n",
       "      <th>0</th>\n",
       "      <td>171</td>\n",
       "      <td>7.0</td>\n",
       "      <td>&lt;jats:title&gt;Abstract&lt;/jats:title&gt;&lt;jats:p&gt;The p...</td>\n",
       "      <td>On photolytic synthesis of sulphur-bearing org...</td>\n",
       "      <td>NaN</td>\n",
       "      <td>10.1017/s1473550406002904</td>\n",
       "      <td>2007.0</td>\n",
       "    </tr>\n",
       "    <tr>\n",
       "      <th>1</th>\n",
       "      <td>239</td>\n",
       "      <td>NaN</td>\n",
       "      <td>&lt;jats:title&gt;Abstract&lt;/jats:title&gt;&lt;jats:p&gt;Examp...</td>\n",
       "      <td>The potentially latent dominance of groundwate...</td>\n",
       "      <td>NaN</td>\n",
       "      <td>10.1144/gsl.eng.1986.003.01.02</td>\n",
       "      <td>1986.0</td>\n",
       "    </tr>\n",
       "    <tr>\n",
       "      <th>2</th>\n",
       "      <td>284</td>\n",
       "      <td>10.0</td>\n",
       "      <td>&lt;jats:p&gt; Acute hypoxia causes pulmonary vasoco...</td>\n",
       "      <td>Hypoxia divergently regulates production of re...</td>\n",
       "      <td>NaN</td>\n",
       "      <td>10.1152/ajplung.00203.2007</td>\n",
       "      <td>2007.0</td>\n",
       "    </tr>\n",
       "    <tr>\n",
       "      <th>3</th>\n",
       "      <td>299</td>\n",
       "      <td>8.0</td>\n",
       "      <td>&lt;jats:title&gt;Abstract&lt;/jats:title&gt;\\n           ...</td>\n",
       "      <td>Noninvasive Tracking of Cardiac Embryonic Stem...</td>\n",
       "      <td>9.0</td>\n",
       "      <td>10.1634/stemcells.2007-0216</td>\n",
       "      <td>2007.0</td>\n",
       "    </tr>\n",
       "    <tr>\n",
       "      <th>4</th>\n",
       "      <td>373</td>\n",
       "      <td>8.0</td>\n",
       "      <td>&lt;jats:title&gt;Abstract&lt;/jats:title&gt;\\n           ...</td>\n",
       "      <td>Biphasic, but monolithic scaffolds for the the...</td>\n",
       "      <td>1.0</td>\n",
       "      <td>10.3139/146.101520</td>\n",
       "      <td>2007.0</td>\n",
       "    </tr>\n",
       "  </tbody>\n",
       "</table>\n",
       "</div>"
      ],
      "text/plain": [
       "    id  published_month                                           abstract  \\\n",
       "0  171              7.0  <jats:title>Abstract</jats:title><jats:p>The p...   \n",
       "1  239              NaN  <jats:title>Abstract</jats:title><jats:p>Examp...   \n",
       "2  284             10.0  <jats:p> Acute hypoxia causes pulmonary vasoco...   \n",
       "3  299              8.0  <jats:title>Abstract</jats:title>\\n           ...   \n",
       "4  373              8.0  <jats:title>Abstract</jats:title>\\n           ...   \n",
       "\n",
       "                                               title  published_day  \\\n",
       "0  On photolytic synthesis of sulphur-bearing org...            NaN   \n",
       "1  The potentially latent dominance of groundwate...            NaN   \n",
       "2  Hypoxia divergently regulates production of re...            NaN   \n",
       "3  Noninvasive Tracking of Cardiac Embryonic Stem...            9.0   \n",
       "4  Biphasic, but monolithic scaffolds for the the...            1.0   \n",
       "\n",
       "                              doi  published_year  \n",
       "0       10.1017/s1473550406002904          2007.0  \n",
       "1  10.1144/gsl.eng.1986.003.01.02          1986.0  \n",
       "2      10.1152/ajplung.00203.2007          2007.0  \n",
       "3     10.1634/stemcells.2007-0216          2007.0  \n",
       "4              10.3139/146.101520          2007.0  "
      ]
     },
     "execution_count": 3,
     "metadata": {},
     "output_type": "execute_result"
    }
   ],
   "source": [
    "works = read_and_combine_pickle_files(\"works\", 5)\n",
    "works.head()"
   ]
  },
  {
   "cell_type": "code",
   "execution_count": 4,
   "id": "5a15b638",
   "metadata": {},
   "outputs": [
    {
     "data": {
      "text/html": [
       "<div>\n",
       "<style scoped>\n",
       "    .dataframe tbody tr th:only-of-type {\n",
       "        vertical-align: middle;\n",
       "    }\n",
       "\n",
       "    .dataframe tbody tr th {\n",
       "        vertical-align: top;\n",
       "    }\n",
       "\n",
       "    .dataframe thead th {\n",
       "        text-align: right;\n",
       "    }\n",
       "</style>\n",
       "<table border=\"1\" class=\"dataframe\">\n",
       "  <thead>\n",
       "    <tr style=\"text-align: right;\">\n",
       "      <th></th>\n",
       "      <th>article_title</th>\n",
       "      <th>year</th>\n",
       "      <th>work_id</th>\n",
       "      <th>doi</th>\n",
       "    </tr>\n",
       "  </thead>\n",
       "  <tbody>\n",
       "    <tr>\n",
       "      <th>0</th>\n",
       "      <td>None</td>\n",
       "      <td>None</td>\n",
       "      <td>171</td>\n",
       "      <td>10.1039/a800286j</td>\n",
       "    </tr>\n",
       "    <tr>\n",
       "      <th>1</th>\n",
       "      <td>None</td>\n",
       "      <td>None</td>\n",
       "      <td>171</td>\n",
       "      <td>10.1016/s0032-0633(99)00053-7</td>\n",
       "    </tr>\n",
       "    <tr>\n",
       "      <th>2</th>\n",
       "      <td>None</td>\n",
       "      <td>None</td>\n",
       "      <td>171</td>\n",
       "      <td>10.1063/1.477559</td>\n",
       "    </tr>\n",
       "    <tr>\n",
       "      <th>3</th>\n",
       "      <td>None</td>\n",
       "      <td>1987</td>\n",
       "      <td>171</td>\n",
       "      <td>None</td>\n",
       "    </tr>\n",
       "    <tr>\n",
       "      <th>4</th>\n",
       "      <td>None</td>\n",
       "      <td>None</td>\n",
       "      <td>171</td>\n",
       "      <td>10.1016/0019-1035(89)90161-9</td>\n",
       "    </tr>\n",
       "  </tbody>\n",
       "</table>\n",
       "</div>"
      ],
      "text/plain": [
       "  article_title  year  work_id                            doi\n",
       "0          None  None      171               10.1039/a800286j\n",
       "1          None  None      171  10.1016/s0032-0633(99)00053-7\n",
       "2          None  None      171               10.1063/1.477559\n",
       "3          None  1987      171                           None\n",
       "4          None  None      171   10.1016/0019-1035(89)90161-9"
      ]
     },
     "execution_count": 4,
     "metadata": {},
     "output_type": "execute_result"
    }
   ],
   "source": [
    "work_references = read_and_combine_pickle_files(\"work_references\", 3)\n",
    "work_references.head()"
   ]
  },
  {
   "cell_type": "code",
   "execution_count": 5,
   "id": "a03fe46e",
   "metadata": {},
   "outputs": [
    {
     "data": {
      "text/html": [
       "<div>\n",
       "<style scoped>\n",
       "    .dataframe tbody tr th:only-of-type {\n",
       "        vertical-align: middle;\n",
       "    }\n",
       "\n",
       "    .dataframe tbody tr th {\n",
       "        vertical-align: top;\n",
       "    }\n",
       "\n",
       "    .dataframe thead th {\n",
       "        text-align: right;\n",
       "    }\n",
       "</style>\n",
       "<table border=\"1\" class=\"dataframe\">\n",
       "  <thead>\n",
       "    <tr style=\"text-align: right;\">\n",
       "      <th></th>\n",
       "      <th>author_id</th>\n",
       "      <th>name</th>\n",
       "    </tr>\n",
       "  </thead>\n",
       "  <tbody>\n",
       "    <tr>\n",
       "      <th>0</th>\n",
       "      <td>3915776</td>\n",
       "      <td>Styperson House\\nAdlington, Macclesfield, Ches...</td>\n",
       "    </tr>\n",
       "    <tr>\n",
       "      <th>1</th>\n",
       "      <td>4898816</td>\n",
       "      <td>Biomolecular Science Center, University of Cen...</td>\n",
       "    </tr>\n",
       "    <tr>\n",
       "      <th>2</th>\n",
       "      <td>4898817</td>\n",
       "      <td>Biomolecular Science Center, University of Cen...</td>\n",
       "    </tr>\n",
       "    <tr>\n",
       "      <th>3</th>\n",
       "      <td>4898818</td>\n",
       "      <td>Biomolecular Science Center, University of Cen...</td>\n",
       "    </tr>\n",
       "    <tr>\n",
       "      <th>4</th>\n",
       "      <td>4898819</td>\n",
       "      <td>Department of Pharmacology, Georgetown Univers...</td>\n",
       "    </tr>\n",
       "  </tbody>\n",
       "</table>\n",
       "</div>"
      ],
      "text/plain": [
       "   author_id                                               name\n",
       "0    3915776  Styperson House\\nAdlington, Macclesfield, Ches...\n",
       "1    4898816  Biomolecular Science Center, University of Cen...\n",
       "2    4898817  Biomolecular Science Center, University of Cen...\n",
       "3    4898818  Biomolecular Science Center, University of Cen...\n",
       "4    4898819  Department of Pharmacology, Georgetown Univers..."
      ]
     },
     "execution_count": 5,
     "metadata": {},
     "output_type": "execute_result"
    }
   ],
   "source": [
    "author_affiliations = pd.read_pickle(\"./data/author_affiliations.pkl\")\n",
    "author_affiliations.head()"
   ]
  },
  {
   "cell_type": "code",
   "execution_count": 6,
   "id": "1a0be237",
   "metadata": {},
   "outputs": [
    {
     "data": {
      "text/html": [
       "<div>\n",
       "<style scoped>\n",
       "    .dataframe tbody tr th:only-of-type {\n",
       "        vertical-align: middle;\n",
       "    }\n",
       "\n",
       "    .dataframe tbody tr th {\n",
       "        vertical-align: top;\n",
       "    }\n",
       "\n",
       "    .dataframe thead th {\n",
       "        text-align: right;\n",
       "    }\n",
       "</style>\n",
       "<table border=\"1\" class=\"dataframe\">\n",
       "  <thead>\n",
       "    <tr style=\"text-align: right;\">\n",
       "      <th></th>\n",
       "      <th>work_id</th>\n",
       "      <th>name</th>\n",
       "    </tr>\n",
       "  </thead>\n",
       "  <tbody>\n",
       "    <tr>\n",
       "      <th>0</th>\n",
       "      <td>171</td>\n",
       "      <td>Earth and Planetary Sciences (miscellaneous)</td>\n",
       "    </tr>\n",
       "    <tr>\n",
       "      <th>1</th>\n",
       "      <td>171</td>\n",
       "      <td>Space and Planetary Science</td>\n",
       "    </tr>\n",
       "    <tr>\n",
       "      <th>2</th>\n",
       "      <td>171</td>\n",
       "      <td>Physics and Astronomy (miscellaneous)</td>\n",
       "    </tr>\n",
       "    <tr>\n",
       "      <th>3</th>\n",
       "      <td>171</td>\n",
       "      <td>Ecology, Evolution, Behavior and Systematics</td>\n",
       "    </tr>\n",
       "    <tr>\n",
       "      <th>4</th>\n",
       "      <td>239</td>\n",
       "      <td>Geotechnical Engineering and Engineering Geology</td>\n",
       "    </tr>\n",
       "  </tbody>\n",
       "</table>\n",
       "</div>"
      ],
      "text/plain": [
       "   work_id                                              name\n",
       "0      171      Earth and Planetary Sciences (miscellaneous)\n",
       "1      171                       Space and Planetary Science\n",
       "2      171             Physics and Astronomy (miscellaneous)\n",
       "3      171      Ecology, Evolution, Behavior and Systematics\n",
       "4      239  Geotechnical Engineering and Engineering Geology"
      ]
     },
     "execution_count": 6,
     "metadata": {},
     "output_type": "execute_result"
    }
   ],
   "source": [
    "work_subjects = pd.read_pickle(\"./data/work_subjects.pkl\")\n",
    "work_subjects.head()"
   ]
  },
  {
   "cell_type": "code",
   "execution_count": 7,
   "id": "87246c61",
   "metadata": {},
   "outputs": [
    {
     "data": {
      "text/html": [
       "<div>\n",
       "<style scoped>\n",
       "    .dataframe tbody tr th:only-of-type {\n",
       "        vertical-align: middle;\n",
       "    }\n",
       "\n",
       "    .dataframe tbody tr th {\n",
       "        vertical-align: top;\n",
       "    }\n",
       "\n",
       "    .dataframe thead th {\n",
       "        text-align: right;\n",
       "    }\n",
       "</style>\n",
       "<table border=\"1\" class=\"dataframe\">\n",
       "  <thead>\n",
       "    <tr style=\"text-align: right;\">\n",
       "      <th></th>\n",
       "      <th>id</th>\n",
       "      <th>work_id</th>\n",
       "      <th>orcid</th>\n",
       "    </tr>\n",
       "  </thead>\n",
       "  <tbody>\n",
       "    <tr>\n",
       "      <th>0</th>\n",
       "      <td>2801664</td>\n",
       "      <td>171</td>\n",
       "      <td>None</td>\n",
       "    </tr>\n",
       "    <tr>\n",
       "      <th>1</th>\n",
       "      <td>3915776</td>\n",
       "      <td>239</td>\n",
       "      <td>None</td>\n",
       "    </tr>\n",
       "    <tr>\n",
       "      <th>2</th>\n",
       "      <td>4653056</td>\n",
       "      <td>284</td>\n",
       "      <td>None</td>\n",
       "    </tr>\n",
       "    <tr>\n",
       "      <th>3</th>\n",
       "      <td>4653057</td>\n",
       "      <td>284</td>\n",
       "      <td>None</td>\n",
       "    </tr>\n",
       "    <tr>\n",
       "      <th>4</th>\n",
       "      <td>4653058</td>\n",
       "      <td>284</td>\n",
       "      <td>None</td>\n",
       "    </tr>\n",
       "  </tbody>\n",
       "</table>\n",
       "</div>"
      ],
      "text/plain": [
       "        id  work_id orcid\n",
       "0  2801664      171  None\n",
       "1  3915776      239  None\n",
       "2  4653056      284  None\n",
       "3  4653057      284  None\n",
       "4  4653058      284  None"
      ]
     },
     "execution_count": 7,
     "metadata": {},
     "output_type": "execute_result"
    }
   ],
   "source": [
    "work_authors = pd.read_pickle(\"./data/work_authors.pkl\")\n",
    "work_authors.head()"
   ]
  },
  {
   "cell_type": "code",
   "execution_count": 8,
   "id": "bcebe4c8",
   "metadata": {},
   "outputs": [
    {
     "data": {
      "text/html": [
       "<div>\n",
       "<style scoped>\n",
       "    .dataframe tbody tr th:only-of-type {\n",
       "        vertical-align: middle;\n",
       "    }\n",
       "\n",
       "    .dataframe tbody tr th {\n",
       "        vertical-align: top;\n",
       "    }\n",
       "\n",
       "    .dataframe thead th {\n",
       "        text-align: right;\n",
       "    }\n",
       "</style>\n",
       "<table border=\"1\" class=\"dataframe\">\n",
       "  <thead>\n",
       "    <tr style=\"text-align: right;\">\n",
       "      <th></th>\n",
       "      <th>doi</th>\n",
       "      <th>cdindex</th>\n",
       "    </tr>\n",
       "  </thead>\n",
       "  <tbody>\n",
       "    <tr>\n",
       "      <th>0</th>\n",
       "      <td>10.1016/s0924-9338(99)80691-9</td>\n",
       "      <td>-0.010811</td>\n",
       "    </tr>\n",
       "    <tr>\n",
       "      <th>1</th>\n",
       "      <td>10.1007/s100249900027</td>\n",
       "      <td>-0.007576</td>\n",
       "    </tr>\n",
       "    <tr>\n",
       "      <th>2</th>\n",
       "      <td>10.1590/s0073-47212013000300013</td>\n",
       "      <td>-0.100000</td>\n",
       "    </tr>\n",
       "    <tr>\n",
       "      <th>3</th>\n",
       "      <td>10.2166/ws.2013.162</td>\n",
       "      <td>1.000000</td>\n",
       "    </tr>\n",
       "    <tr>\n",
       "      <th>4</th>\n",
       "      <td>10.1152/ajpendo.00421.2013</td>\n",
       "      <td>-0.000258</td>\n",
       "    </tr>\n",
       "  </tbody>\n",
       "</table>\n",
       "</div>"
      ],
      "text/plain": [
       "                               doi   cdindex\n",
       "0    10.1016/s0924-9338(99)80691-9 -0.010811\n",
       "1            10.1007/s100249900027 -0.007576\n",
       "2  10.1590/s0073-47212013000300013 -0.100000\n",
       "3              10.2166/ws.2013.162  1.000000\n",
       "4       10.1152/ajpendo.00421.2013 -0.000258"
      ]
     },
     "execution_count": 8,
     "metadata": {},
     "output_type": "execute_result"
    }
   ],
   "source": [
    "cdindex = pd.read_pickle(\"./data/cd.pkl\")\n",
    "cdindex.head()"
   ]
  },
  {
   "cell_type": "markdown",
   "id": "a6ecc2be",
   "metadata": {},
   "source": [
    "We want our data to contain the CD index in order to train and be able to predictions with our models, so we are going to keep only the data that have the CD index available."
   ]
  },
  {
   "cell_type": "code",
   "execution_count": 9,
   "id": "7710c90c",
   "metadata": {},
   "outputs": [
    {
     "data": {
      "text/html": [
       "<div>\n",
       "<style scoped>\n",
       "    .dataframe tbody tr th:only-of-type {\n",
       "        vertical-align: middle;\n",
       "    }\n",
       "\n",
       "    .dataframe tbody tr th {\n",
       "        vertical-align: top;\n",
       "    }\n",
       "\n",
       "    .dataframe thead th {\n",
       "        text-align: right;\n",
       "    }\n",
       "</style>\n",
       "<table border=\"1\" class=\"dataframe\">\n",
       "  <thead>\n",
       "    <tr style=\"text-align: right;\">\n",
       "      <th></th>\n",
       "      <th>id</th>\n",
       "      <th>published_month</th>\n",
       "      <th>abstract</th>\n",
       "      <th>title</th>\n",
       "      <th>published_day</th>\n",
       "      <th>doi</th>\n",
       "      <th>published_year</th>\n",
       "      <th>cdindex</th>\n",
       "    </tr>\n",
       "  </thead>\n",
       "  <tbody>\n",
       "    <tr>\n",
       "      <th>0</th>\n",
       "      <td>171</td>\n",
       "      <td>7.0</td>\n",
       "      <td>&lt;jats:title&gt;Abstract&lt;/jats:title&gt;&lt;jats:p&gt;The p...</td>\n",
       "      <td>On photolytic synthesis of sulphur-bearing org...</td>\n",
       "      <td>NaN</td>\n",
       "      <td>10.1017/s1473550406002904</td>\n",
       "      <td>2007.0</td>\n",
       "      <td>0.000000</td>\n",
       "    </tr>\n",
       "    <tr>\n",
       "      <th>1</th>\n",
       "      <td>239</td>\n",
       "      <td>NaN</td>\n",
       "      <td>&lt;jats:title&gt;Abstract&lt;/jats:title&gt;&lt;jats:p&gt;Examp...</td>\n",
       "      <td>The potentially latent dominance of groundwate...</td>\n",
       "      <td>NaN</td>\n",
       "      <td>10.1144/gsl.eng.1986.003.01.02</td>\n",
       "      <td>1986.0</td>\n",
       "      <td>0.000000</td>\n",
       "    </tr>\n",
       "    <tr>\n",
       "      <th>2</th>\n",
       "      <td>284</td>\n",
       "      <td>10.0</td>\n",
       "      <td>&lt;jats:p&gt; Acute hypoxia causes pulmonary vasoco...</td>\n",
       "      <td>Hypoxia divergently regulates production of re...</td>\n",
       "      <td>NaN</td>\n",
       "      <td>10.1152/ajplung.00203.2007</td>\n",
       "      <td>2007.0</td>\n",
       "      <td>-0.002938</td>\n",
       "    </tr>\n",
       "    <tr>\n",
       "      <th>3</th>\n",
       "      <td>299</td>\n",
       "      <td>8.0</td>\n",
       "      <td>&lt;jats:title&gt;Abstract&lt;/jats:title&gt;\\n           ...</td>\n",
       "      <td>Noninvasive Tracking of Cardiac Embryonic Stem...</td>\n",
       "      <td>9.0</td>\n",
       "      <td>10.1634/stemcells.2007-0216</td>\n",
       "      <td>2007.0</td>\n",
       "      <td>-0.004497</td>\n",
       "    </tr>\n",
       "    <tr>\n",
       "      <th>4</th>\n",
       "      <td>373</td>\n",
       "      <td>8.0</td>\n",
       "      <td>&lt;jats:title&gt;Abstract&lt;/jats:title&gt;\\n           ...</td>\n",
       "      <td>Biphasic, but monolithic scaffolds for the the...</td>\n",
       "      <td>1.0</td>\n",
       "      <td>10.3139/146.101520</td>\n",
       "      <td>2007.0</td>\n",
       "      <td>-0.004373</td>\n",
       "    </tr>\n",
       "  </tbody>\n",
       "</table>\n",
       "</div>"
      ],
      "text/plain": [
       "    id  published_month                                           abstract  \\\n",
       "0  171              7.0  <jats:title>Abstract</jats:title><jats:p>The p...   \n",
       "1  239              NaN  <jats:title>Abstract</jats:title><jats:p>Examp...   \n",
       "2  284             10.0  <jats:p> Acute hypoxia causes pulmonary vasoco...   \n",
       "3  299              8.0  <jats:title>Abstract</jats:title>\\n           ...   \n",
       "4  373              8.0  <jats:title>Abstract</jats:title>\\n           ...   \n",
       "\n",
       "                                               title  published_day  \\\n",
       "0  On photolytic synthesis of sulphur-bearing org...            NaN   \n",
       "1  The potentially latent dominance of groundwate...            NaN   \n",
       "2  Hypoxia divergently regulates production of re...            NaN   \n",
       "3  Noninvasive Tracking of Cardiac Embryonic Stem...            9.0   \n",
       "4  Biphasic, but monolithic scaffolds for the the...            1.0   \n",
       "\n",
       "                              doi  published_year   cdindex  \n",
       "0       10.1017/s1473550406002904          2007.0  0.000000  \n",
       "1  10.1144/gsl.eng.1986.003.01.02          1986.0  0.000000  \n",
       "2      10.1152/ajplung.00203.2007          2007.0 -0.002938  \n",
       "3     10.1634/stemcells.2007-0216          2007.0 -0.004497  \n",
       "4              10.3139/146.101520          2007.0 -0.004373  "
      ]
     },
     "execution_count": 9,
     "metadata": {},
     "output_type": "execute_result"
    }
   ],
   "source": [
    "works = works.merge(cdindex,how=\"inner\", on=\"doi\")\n",
    "works.head()"
   ]
  },
  {
   "cell_type": "markdown",
   "id": "32f5442f",
   "metadata": {},
   "source": [
    "The *abstract* and the *title* columns contain some HTML tags, so we are going to get rid of them using regex."
   ]
  },
  {
   "cell_type": "code",
   "execution_count": 10,
   "id": "b8a0ff60",
   "metadata": {},
   "outputs": [
    {
     "data": {
      "text/html": [
       "<div>\n",
       "<style scoped>\n",
       "    .dataframe tbody tr th:only-of-type {\n",
       "        vertical-align: middle;\n",
       "    }\n",
       "\n",
       "    .dataframe tbody tr th {\n",
       "        vertical-align: top;\n",
       "    }\n",
       "\n",
       "    .dataframe thead th {\n",
       "        text-align: right;\n",
       "    }\n",
       "</style>\n",
       "<table border=\"1\" class=\"dataframe\">\n",
       "  <thead>\n",
       "    <tr style=\"text-align: right;\">\n",
       "      <th></th>\n",
       "      <th>id</th>\n",
       "      <th>published_month</th>\n",
       "      <th>abstract</th>\n",
       "      <th>title</th>\n",
       "      <th>published_day</th>\n",
       "      <th>doi</th>\n",
       "      <th>published_year</th>\n",
       "      <th>cdindex</th>\n",
       "    </tr>\n",
       "  </thead>\n",
       "  <tbody>\n",
       "    <tr>\n",
       "      <th>0</th>\n",
       "      <td>171</td>\n",
       "      <td>7.0</td>\n",
       "      <td>The photolysis of dilute solutions of octacycl...</td>\n",
       "      <td>On photolytic synthesis of sulphur-bearing org...</td>\n",
       "      <td>NaN</td>\n",
       "      <td>10.1017/s1473550406002904</td>\n",
       "      <td>2007.0</td>\n",
       "      <td>0.000000</td>\n",
       "    </tr>\n",
       "    <tr>\n",
       "      <th>1</th>\n",
       "      <td>239</td>\n",
       "      <td>NaN</td>\n",
       "      <td>Examples are given of unforeseen damage or dif...</td>\n",
       "      <td>The potentially latent dominance of groundwate...</td>\n",
       "      <td>NaN</td>\n",
       "      <td>10.1144/gsl.eng.1986.003.01.02</td>\n",
       "      <td>1986.0</td>\n",
       "      <td>0.000000</td>\n",
       "    </tr>\n",
       "    <tr>\n",
       "      <th>2</th>\n",
       "      <td>284</td>\n",
       "      <td>10.0</td>\n",
       "      <td>Acute hypoxia causes pulmonary vasoconstrictio...</td>\n",
       "      <td>Hypoxia divergently regulates production of re...</td>\n",
       "      <td>NaN</td>\n",
       "      <td>10.1152/ajplung.00203.2007</td>\n",
       "      <td>2007.0</td>\n",
       "      <td>-0.002938</td>\n",
       "    </tr>\n",
       "    <tr>\n",
       "      <th>3</th>\n",
       "      <td>299</td>\n",
       "      <td>8.0</td>\n",
       "      <td>Despite rapid advances in the stem cell field,...</td>\n",
       "      <td>Noninvasive Tracking of Cardiac Embryonic Stem...</td>\n",
       "      <td>9.0</td>\n",
       "      <td>10.1634/stemcells.2007-0216</td>\n",
       "      <td>2007.0</td>\n",
       "      <td>-0.004497</td>\n",
       "    </tr>\n",
       "    <tr>\n",
       "      <th>4</th>\n",
       "      <td>373</td>\n",
       "      <td>8.0</td>\n",
       "      <td>For the regenerative therapy of osteochondral ...</td>\n",
       "      <td>Biphasic, but monolithic scaffolds for the the...</td>\n",
       "      <td>1.0</td>\n",
       "      <td>10.3139/146.101520</td>\n",
       "      <td>2007.0</td>\n",
       "      <td>-0.004373</td>\n",
       "    </tr>\n",
       "    <tr>\n",
       "      <th>...</th>\n",
       "      <td>...</td>\n",
       "      <td>...</td>\n",
       "      <td>...</td>\n",
       "      <td>...</td>\n",
       "      <td>...</td>\n",
       "      <td>...</td>\n",
       "      <td>...</td>\n",
       "      <td>...</td>\n",
       "    </tr>\n",
       "    <tr>\n",
       "      <th>80276</th>\n",
       "      <td>4477724</td>\n",
       "      <td>9.0</td>\n",
       "      <td>The nymphal instars I and III  V of Sigara Tro...</td>\n",
       "      <td>The nymphs of Sigara Tropocorixa) denseconscri...</td>\n",
       "      <td>NaN</td>\n",
       "      <td>10.1590/s0073-47212013000300013</td>\n",
       "      <td>2013.0</td>\n",
       "      <td>-0.100000</td>\n",
       "    </tr>\n",
       "    <tr>\n",
       "      <th>80277</th>\n",
       "      <td>4489260</td>\n",
       "      <td>5.0</td>\n",
       "      <td>The possible effects of a wide range of sociod...</td>\n",
       "      <td>Epidemiology of Intrathoracic Petechial Hemorr...</td>\n",
       "      <td>NaN</td>\n",
       "      <td>10.1007/s100249900027</td>\n",
       "      <td>1998.0</td>\n",
       "      <td>-0.007576</td>\n",
       "    </tr>\n",
       "    <tr>\n",
       "      <th>80278</th>\n",
       "      <td>4490759</td>\n",
       "      <td>2.0</td>\n",
       "      <td>After electroconvulsive therapy ECT), many pat...</td>\n",
       "      <td>Verbal perseveration after right-unilateral ECT</td>\n",
       "      <td>NaN</td>\n",
       "      <td>10.1016/s0924-9338(00)00540-x</td>\n",
       "      <td>2001.0</td>\n",
       "      <td>-0.040000</td>\n",
       "    </tr>\n",
       "    <tr>\n",
       "      <th>80279</th>\n",
       "      <td>4491211</td>\n",
       "      <td>12.0</td>\n",
       "      <td>This article looks at the issue  largely negle...</td>\n",
       "      <td>Crucial relationship between the privatized se...</td>\n",
       "      <td>1.0</td>\n",
       "      <td>10.1016/s0967-067x(00)00019-2</td>\n",
       "      <td>2000.0</td>\n",
       "      <td>0.100000</td>\n",
       "    </tr>\n",
       "    <tr>\n",
       "      <th>80280</th>\n",
       "      <td>4491329</td>\n",
       "      <td>12.0</td>\n",
       "      <td>Summary There have been previous suggestions i...</td>\n",
       "      <td>Retinitis pigmentosa and schizophrenia</td>\n",
       "      <td>NaN</td>\n",
       "      <td>10.1016/s0924-9338(99)80691-9</td>\n",
       "      <td>1998.0</td>\n",
       "      <td>-0.010811</td>\n",
       "    </tr>\n",
       "  </tbody>\n",
       "</table>\n",
       "<p>80281 rows × 8 columns</p>\n",
       "</div>"
      ],
      "text/plain": [
       "            id  published_month  \\\n",
       "0          171              7.0   \n",
       "1          239              NaN   \n",
       "2          284             10.0   \n",
       "3          299              8.0   \n",
       "4          373              8.0   \n",
       "...        ...              ...   \n",
       "80276  4477724              9.0   \n",
       "80277  4489260              5.0   \n",
       "80278  4490759              2.0   \n",
       "80279  4491211             12.0   \n",
       "80280  4491329             12.0   \n",
       "\n",
       "                                                abstract  \\\n",
       "0      The photolysis of dilute solutions of octacycl...   \n",
       "1      Examples are given of unforeseen damage or dif...   \n",
       "2      Acute hypoxia causes pulmonary vasoconstrictio...   \n",
       "3      Despite rapid advances in the stem cell field,...   \n",
       "4      For the regenerative therapy of osteochondral ...   \n",
       "...                                                  ...   \n",
       "80276  The nymphal instars I and III  V of Sigara Tro...   \n",
       "80277  The possible effects of a wide range of sociod...   \n",
       "80278  After electroconvulsive therapy ECT), many pat...   \n",
       "80279  This article looks at the issue  largely negle...   \n",
       "80280  Summary There have been previous suggestions i...   \n",
       "\n",
       "                                                   title  published_day  \\\n",
       "0      On photolytic synthesis of sulphur-bearing org...            NaN   \n",
       "1      The potentially latent dominance of groundwate...            NaN   \n",
       "2      Hypoxia divergently regulates production of re...            NaN   \n",
       "3      Noninvasive Tracking of Cardiac Embryonic Stem...            9.0   \n",
       "4      Biphasic, but monolithic scaffolds for the the...            1.0   \n",
       "...                                                  ...            ...   \n",
       "80276  The nymphs of Sigara Tropocorixa) denseconscri...            NaN   \n",
       "80277  Epidemiology of Intrathoracic Petechial Hemorr...            NaN   \n",
       "80278    Verbal perseveration after right-unilateral ECT            NaN   \n",
       "80279  Crucial relationship between the privatized se...            1.0   \n",
       "80280             Retinitis pigmentosa and schizophrenia            NaN   \n",
       "\n",
       "                                   doi  published_year   cdindex  \n",
       "0            10.1017/s1473550406002904          2007.0  0.000000  \n",
       "1       10.1144/gsl.eng.1986.003.01.02          1986.0  0.000000  \n",
       "2           10.1152/ajplung.00203.2007          2007.0 -0.002938  \n",
       "3          10.1634/stemcells.2007-0216          2007.0 -0.004497  \n",
       "4                   10.3139/146.101520          2007.0 -0.004373  \n",
       "...                                ...             ...       ...  \n",
       "80276  10.1590/s0073-47212013000300013          2013.0 -0.100000  \n",
       "80277            10.1007/s100249900027          1998.0 -0.007576  \n",
       "80278    10.1016/s0924-9338(00)00540-x          2001.0 -0.040000  \n",
       "80279    10.1016/s0967-067x(00)00019-2          2000.0  0.100000  \n",
       "80280    10.1016/s0924-9338(99)80691-9          1998.0 -0.010811  \n",
       "\n",
       "[80281 rows x 8 columns]"
      ]
     },
     "execution_count": 10,
     "metadata": {},
     "output_type": "execute_result"
    }
   ],
   "source": [
    "# remove tags\n",
    "works[\"abstract\"] = works[\"abstract\"].replace(r\"<[^>]*>\", \" \",regex=True).replace(r\"\\s+\", \" \",regex=True).str.strip()\n",
    "works[\"title\"] = works[\"title\"].replace(r\"<[^>]*>\", \" \",regex=True).replace(r\"\\s+\", \" \",regex=True).str.strip()\n",
    "# remove Abstract from beginning of the abstract\n",
    "works[\"abstract\"] = works[\"abstract\"].replace(r\"Abstract \", \"\",limit=1, regex=True)\n",
    "# remove numbers\n",
    "works[\"abstract\"] = works[\"abstract\"].replace(r\" \\d+ \", \" \", regex=True)\n",
    "works[\"title\"] = works[\"title\"].replace(r\" \\d+ \", \" \", regex=True)\n",
    "# remove special characters\n",
    "works[\"abstract\"] = works[\"abstract\"].replace(r\" [^\\w\\s]+\", \" \", regex=True)\n",
    "works[\"title\"] = works[\"title\"].replace(r\" [^\\w\\s]+\", \" \", regex=True)\n",
    "\n",
    "works"
   ]
  },
  {
   "cell_type": "markdown",
   "id": "aa2834b8",
   "metadata": {},
   "source": [
    "We are now going to calculate some metrics that we will feed into our models"
   ]
  },
  {
   "cell_type": "markdown",
   "id": "8734136e",
   "metadata": {},
   "source": [
    "The number of references each paper has:"
   ]
  },
  {
   "cell_type": "code",
   "execution_count": 11,
   "id": "3a36c23c",
   "metadata": {},
   "outputs": [
    {
     "data": {
      "text/html": [
       "<div>\n",
       "<style scoped>\n",
       "    .dataframe tbody tr th:only-of-type {\n",
       "        vertical-align: middle;\n",
       "    }\n",
       "\n",
       "    .dataframe tbody tr th {\n",
       "        vertical-align: top;\n",
       "    }\n",
       "\n",
       "    .dataframe thead th {\n",
       "        text-align: right;\n",
       "    }\n",
       "</style>\n",
       "<table border=\"1\" class=\"dataframe\">\n",
       "  <thead>\n",
       "    <tr style=\"text-align: right;\">\n",
       "      <th></th>\n",
       "      <th>num_of_refs</th>\n",
       "    </tr>\n",
       "    <tr>\n",
       "      <th>work_id</th>\n",
       "      <th></th>\n",
       "    </tr>\n",
       "  </thead>\n",
       "  <tbody>\n",
       "    <tr>\n",
       "      <th>171</th>\n",
       "      <td>23</td>\n",
       "    </tr>\n",
       "    <tr>\n",
       "      <th>239</th>\n",
       "      <td>5</td>\n",
       "    </tr>\n",
       "    <tr>\n",
       "      <th>284</th>\n",
       "      <td>59</td>\n",
       "    </tr>\n",
       "    <tr>\n",
       "      <th>299</th>\n",
       "      <td>66</td>\n",
       "    </tr>\n",
       "    <tr>\n",
       "      <th>373</th>\n",
       "      <td>25</td>\n",
       "    </tr>\n",
       "    <tr>\n",
       "      <th>...</th>\n",
       "      <td>...</td>\n",
       "    </tr>\n",
       "    <tr>\n",
       "      <th>4477724</th>\n",
       "      <td>25</td>\n",
       "    </tr>\n",
       "    <tr>\n",
       "      <th>4489260</th>\n",
       "      <td>40</td>\n",
       "    </tr>\n",
       "    <tr>\n",
       "      <th>4490759</th>\n",
       "      <td>24</td>\n",
       "    </tr>\n",
       "    <tr>\n",
       "      <th>4491211</th>\n",
       "      <td>26</td>\n",
       "    </tr>\n",
       "    <tr>\n",
       "      <th>4491329</th>\n",
       "      <td>26</td>\n",
       "    </tr>\n",
       "  </tbody>\n",
       "</table>\n",
       "<p>73376 rows × 1 columns</p>\n",
       "</div>"
      ],
      "text/plain": [
       "         num_of_refs\n",
       "work_id             \n",
       "171               23\n",
       "239                5\n",
       "284               59\n",
       "299               66\n",
       "373               25\n",
       "...              ...\n",
       "4477724           25\n",
       "4489260           40\n",
       "4490759           24\n",
       "4491211           26\n",
       "4491329           26\n",
       "\n",
       "[73376 rows x 1 columns]"
      ]
     },
     "execution_count": 11,
     "metadata": {},
     "output_type": "execute_result"
    }
   ],
   "source": [
    "num_of_refs = work_references[[\"doi\",\"work_id\"]].fillna(0).groupby(\"work_id\").count()\n",
    "num_of_refs = num_of_refs.rename(columns={\"doi\": \"num_of_refs\"})\n",
    "num_of_refs"
   ]
  },
  {
   "cell_type": "markdown",
   "id": "824b1740",
   "metadata": {},
   "source": [
    "The mean year that those references got published:"
   ]
  },
  {
   "cell_type": "code",
   "execution_count": 12,
   "id": "9598b2fd",
   "metadata": {
    "scrolled": false
   },
   "outputs": [
    {
     "data": {
      "text/html": [
       "<div>\n",
       "<style scoped>\n",
       "    .dataframe tbody tr th:only-of-type {\n",
       "        vertical-align: middle;\n",
       "    }\n",
       "\n",
       "    .dataframe tbody tr th {\n",
       "        vertical-align: top;\n",
       "    }\n",
       "\n",
       "    .dataframe thead th {\n",
       "        text-align: right;\n",
       "    }\n",
       "</style>\n",
       "<table border=\"1\" class=\"dataframe\">\n",
       "  <thead>\n",
       "    <tr style=\"text-align: right;\">\n",
       "      <th></th>\n",
       "      <th>mean_ref_year</th>\n",
       "    </tr>\n",
       "    <tr>\n",
       "      <th>work_id</th>\n",
       "      <th></th>\n",
       "    </tr>\n",
       "  </thead>\n",
       "  <tbody>\n",
       "    <tr>\n",
       "      <th>171</th>\n",
       "      <td>1987.333333</td>\n",
       "    </tr>\n",
       "    <tr>\n",
       "      <th>299</th>\n",
       "      <td>2004.257576</td>\n",
       "    </tr>\n",
       "    <tr>\n",
       "      <th>373</th>\n",
       "      <td>2002.480000</td>\n",
       "    </tr>\n",
       "    <tr>\n",
       "      <th>471</th>\n",
       "      <td>1972.666667</td>\n",
       "    </tr>\n",
       "    <tr>\n",
       "      <th>517</th>\n",
       "      <td>1984.000000</td>\n",
       "    </tr>\n",
       "    <tr>\n",
       "      <th>...</th>\n",
       "      <td>...</td>\n",
       "    </tr>\n",
       "    <tr>\n",
       "      <th>4477724</th>\n",
       "      <td>1980.400000</td>\n",
       "    </tr>\n",
       "    <tr>\n",
       "      <th>4489260</th>\n",
       "      <td>1983.350000</td>\n",
       "    </tr>\n",
       "    <tr>\n",
       "      <th>4490759</th>\n",
       "      <td>1978.826087</td>\n",
       "    </tr>\n",
       "    <tr>\n",
       "      <th>4491211</th>\n",
       "      <td>1993.466667</td>\n",
       "    </tr>\n",
       "    <tr>\n",
       "      <th>4491329</th>\n",
       "      <td>1975.666667</td>\n",
       "    </tr>\n",
       "  </tbody>\n",
       "</table>\n",
       "<p>58069 rows × 1 columns</p>\n",
       "</div>"
      ],
      "text/plain": [
       "         mean_ref_year\n",
       "work_id               \n",
       "171        1987.333333\n",
       "299        2004.257576\n",
       "373        2002.480000\n",
       "471        1972.666667\n",
       "517        1984.000000\n",
       "...                ...\n",
       "4477724    1980.400000\n",
       "4489260    1983.350000\n",
       "4490759    1978.826087\n",
       "4491211    1993.466667\n",
       "4491329    1975.666667\n",
       "\n",
       "[58069 rows x 1 columns]"
      ]
     },
     "execution_count": 12,
     "metadata": {},
     "output_type": "execute_result"
    }
   ],
   "source": [
    "# remove missing values\n",
    "references_years = work_references[[\"year\",\"work_id\"]].dropna()\n",
    "# convert to numeric and ignore wrong values like \"2023a\"\n",
    "references_years[\"year\"] = pd.to_numeric(references_years[\"year\"],downcast='integer', errors='coerce')\n",
    "# take the median of each work id\n",
    "mean_ref_year = references_years.groupby(\"work_id\").mean()\n",
    "mean_ref_year = mean_ref_year.rename(columns={\"year\": \"mean_ref_year\"})\n",
    "mean_ref_year"
   ]
  },
  {
   "cell_type": "markdown",
   "id": "ca54f1c5",
   "metadata": {},
   "source": [
    "The years difference between first and last published reference:"
   ]
  },
  {
   "cell_type": "code",
   "execution_count": 13,
   "id": "cada5742",
   "metadata": {},
   "outputs": [
    {
     "data": {
      "text/html": [
       "<div>\n",
       "<style scoped>\n",
       "    .dataframe tbody tr th:only-of-type {\n",
       "        vertical-align: middle;\n",
       "    }\n",
       "\n",
       "    .dataframe tbody tr th {\n",
       "        vertical-align: top;\n",
       "    }\n",
       "\n",
       "    .dataframe thead th {\n",
       "        text-align: right;\n",
       "    }\n",
       "</style>\n",
       "<table border=\"1\" class=\"dataframe\">\n",
       "  <thead>\n",
       "    <tr style=\"text-align: right;\">\n",
       "      <th></th>\n",
       "      <th>years_gap</th>\n",
       "    </tr>\n",
       "    <tr>\n",
       "      <th>work_id</th>\n",
       "      <th></th>\n",
       "    </tr>\n",
       "  </thead>\n",
       "  <tbody>\n",
       "    <tr>\n",
       "      <th>171</th>\n",
       "      <td>1.0</td>\n",
       "    </tr>\n",
       "    <tr>\n",
       "      <th>299</th>\n",
       "      <td>18.0</td>\n",
       "    </tr>\n",
       "    <tr>\n",
       "      <th>373</th>\n",
       "      <td>40.0</td>\n",
       "    </tr>\n",
       "    <tr>\n",
       "      <th>471</th>\n",
       "      <td>23.0</td>\n",
       "    </tr>\n",
       "    <tr>\n",
       "      <th>517</th>\n",
       "      <td>0.0</td>\n",
       "    </tr>\n",
       "    <tr>\n",
       "      <th>...</th>\n",
       "      <td>...</td>\n",
       "    </tr>\n",
       "    <tr>\n",
       "      <th>4477724</th>\n",
       "      <td>73.0</td>\n",
       "    </tr>\n",
       "    <tr>\n",
       "      <th>4489260</th>\n",
       "      <td>41.0</td>\n",
       "    </tr>\n",
       "    <tr>\n",
       "      <th>4490759</th>\n",
       "      <td>93.0</td>\n",
       "    </tr>\n",
       "    <tr>\n",
       "      <th>4491211</th>\n",
       "      <td>10.0</td>\n",
       "    </tr>\n",
       "    <tr>\n",
       "      <th>4491329</th>\n",
       "      <td>42.0</td>\n",
       "    </tr>\n",
       "  </tbody>\n",
       "</table>\n",
       "<p>58069 rows × 1 columns</p>\n",
       "</div>"
      ],
      "text/plain": [
       "         years_gap\n",
       "work_id           \n",
       "171            1.0\n",
       "299           18.0\n",
       "373           40.0\n",
       "471           23.0\n",
       "517            0.0\n",
       "...            ...\n",
       "4477724       73.0\n",
       "4489260       41.0\n",
       "4490759       93.0\n",
       "4491211       10.0\n",
       "4491329       42.0\n",
       "\n",
       "[58069 rows x 1 columns]"
      ]
     },
     "execution_count": 13,
     "metadata": {},
     "output_type": "execute_result"
    }
   ],
   "source": [
    "cite_diff = references_years.groupby(\"work_id\").max() - references_years.groupby(\"work_id\").min()\n",
    "cite_diff = cite_diff.rename(columns={\"year\": \"years_gap\"})\n",
    "cite_diff"
   ]
  },
  {
   "cell_type": "markdown",
   "id": "1ff3957d",
   "metadata": {},
   "source": [
    "The number of authors:"
   ]
  },
  {
   "cell_type": "code",
   "execution_count": 14,
   "id": "b134ad3e",
   "metadata": {},
   "outputs": [],
   "source": [
    "authors = work_authors[[\"work_id\",\"id\"]].groupby(\"work_id\").count()\n",
    "authors = authors.rename(columns={\"id\": \"num_of_authors\"})"
   ]
  },
  {
   "cell_type": "markdown",
   "id": "2deab9b6",
   "metadata": {},
   "source": [
    "The number of subjects that the paper is talking about:"
   ]
  },
  {
   "cell_type": "code",
   "execution_count": 15,
   "id": "9a1efc17",
   "metadata": {},
   "outputs": [],
   "source": [
    "num_of_subjects = work_subjects.groupby(\"work_id\").count()\n",
    "num_of_subjects = num_of_subjects.rename(columns={\"name\": \"num_of_subjects\"})"
   ]
  },
  {
   "cell_type": "markdown",
   "id": "9b28b47b",
   "metadata": {},
   "source": [
    "The number of affiliations of the paper authors:"
   ]
  },
  {
   "cell_type": "code",
   "execution_count": 16,
   "id": "b095e46c",
   "metadata": {},
   "outputs": [],
   "source": [
    "num_of_aff = work_authors.merge(author_affiliations,how=\"left\", left_on=\"id\",right_on=\"author_id\").groupby(\"work_id\").nunique()[\"name\"]\n",
    "num_of_aff = num_of_aff.rename(\"num_of_aff\")"
   ]
  },
  {
   "cell_type": "markdown",
   "id": "7226f127",
   "metadata": {},
   "source": [
    "We merge all that together with the *works* table:"
   ]
  },
  {
   "cell_type": "code",
   "execution_count": 17,
   "id": "0e58d74d",
   "metadata": {},
   "outputs": [
    {
     "data": {
      "text/html": [
       "<div>\n",
       "<style scoped>\n",
       "    .dataframe tbody tr th:only-of-type {\n",
       "        vertical-align: middle;\n",
       "    }\n",
       "\n",
       "    .dataframe tbody tr th {\n",
       "        vertical-align: top;\n",
       "    }\n",
       "\n",
       "    .dataframe thead th {\n",
       "        text-align: right;\n",
       "    }\n",
       "</style>\n",
       "<table border=\"1\" class=\"dataframe\">\n",
       "  <thead>\n",
       "    <tr style=\"text-align: right;\">\n",
       "      <th></th>\n",
       "      <th>id</th>\n",
       "      <th>abstract</th>\n",
       "      <th>title</th>\n",
       "      <th>doi</th>\n",
       "      <th>published_year</th>\n",
       "      <th>cdindex</th>\n",
       "      <th>num_of_refs</th>\n",
       "      <th>mean_ref_year</th>\n",
       "      <th>years_gap</th>\n",
       "      <th>num_of_authors</th>\n",
       "      <th>num_of_subjects</th>\n",
       "      <th>num_of_aff</th>\n",
       "    </tr>\n",
       "  </thead>\n",
       "  <tbody>\n",
       "    <tr>\n",
       "      <th>0</th>\n",
       "      <td>171</td>\n",
       "      <td>The photolysis of dilute solutions of octacycl...</td>\n",
       "      <td>On photolytic synthesis of sulphur-bearing org...</td>\n",
       "      <td>10.1017/s1473550406002904</td>\n",
       "      <td>2007.0</td>\n",
       "      <td>0.000000</td>\n",
       "      <td>23.0</td>\n",
       "      <td>1987.333333</td>\n",
       "      <td>1.0</td>\n",
       "      <td>1.0</td>\n",
       "      <td>4.0</td>\n",
       "      <td>0.0</td>\n",
       "    </tr>\n",
       "    <tr>\n",
       "      <th>1</th>\n",
       "      <td>239</td>\n",
       "      <td>Examples are given of unforeseen damage or dif...</td>\n",
       "      <td>The potentially latent dominance of groundwate...</td>\n",
       "      <td>10.1144/gsl.eng.1986.003.01.02</td>\n",
       "      <td>1986.0</td>\n",
       "      <td>0.000000</td>\n",
       "      <td>5.0</td>\n",
       "      <td>NaN</td>\n",
       "      <td>NaN</td>\n",
       "      <td>1.0</td>\n",
       "      <td>1.0</td>\n",
       "      <td>1.0</td>\n",
       "    </tr>\n",
       "    <tr>\n",
       "      <th>2</th>\n",
       "      <td>284</td>\n",
       "      <td>Acute hypoxia causes pulmonary vasoconstrictio...</td>\n",
       "      <td>Hypoxia divergently regulates production of re...</td>\n",
       "      <td>10.1152/ajplung.00203.2007</td>\n",
       "      <td>2007.0</td>\n",
       "      <td>-0.002938</td>\n",
       "      <td>59.0</td>\n",
       "      <td>NaN</td>\n",
       "      <td>NaN</td>\n",
       "      <td>4.0</td>\n",
       "      <td>4.0</td>\n",
       "      <td>0.0</td>\n",
       "    </tr>\n",
       "    <tr>\n",
       "      <th>3</th>\n",
       "      <td>299</td>\n",
       "      <td>Despite rapid advances in the stem cell field,...</td>\n",
       "      <td>Noninvasive Tracking of Cardiac Embryonic Stem...</td>\n",
       "      <td>10.1634/stemcells.2007-0216</td>\n",
       "      <td>2007.0</td>\n",
       "      <td>-0.004497</td>\n",
       "      <td>66.0</td>\n",
       "      <td>2004.257576</td>\n",
       "      <td>18.0</td>\n",
       "      <td>8.0</td>\n",
       "      <td>3.0</td>\n",
       "      <td>3.0</td>\n",
       "    </tr>\n",
       "    <tr>\n",
       "      <th>4</th>\n",
       "      <td>373</td>\n",
       "      <td>For the regenerative therapy of osteochondral ...</td>\n",
       "      <td>Biphasic, but monolithic scaffolds for the the...</td>\n",
       "      <td>10.3139/146.101520</td>\n",
       "      <td>2007.0</td>\n",
       "      <td>-0.004373</td>\n",
       "      <td>25.0</td>\n",
       "      <td>2002.480000</td>\n",
       "      <td>40.0</td>\n",
       "      <td>3.0</td>\n",
       "      <td>4.0</td>\n",
       "      <td>1.0</td>\n",
       "    </tr>\n",
       "  </tbody>\n",
       "</table>\n",
       "</div>"
      ],
      "text/plain": [
       "    id                                           abstract  \\\n",
       "0  171  The photolysis of dilute solutions of octacycl...   \n",
       "1  239  Examples are given of unforeseen damage or dif...   \n",
       "2  284  Acute hypoxia causes pulmonary vasoconstrictio...   \n",
       "3  299  Despite rapid advances in the stem cell field,...   \n",
       "4  373  For the regenerative therapy of osteochondral ...   \n",
       "\n",
       "                                               title  \\\n",
       "0  On photolytic synthesis of sulphur-bearing org...   \n",
       "1  The potentially latent dominance of groundwate...   \n",
       "2  Hypoxia divergently regulates production of re...   \n",
       "3  Noninvasive Tracking of Cardiac Embryonic Stem...   \n",
       "4  Biphasic, but monolithic scaffolds for the the...   \n",
       "\n",
       "                              doi  published_year   cdindex  num_of_refs  \\\n",
       "0       10.1017/s1473550406002904          2007.0  0.000000         23.0   \n",
       "1  10.1144/gsl.eng.1986.003.01.02          1986.0  0.000000          5.0   \n",
       "2      10.1152/ajplung.00203.2007          2007.0 -0.002938         59.0   \n",
       "3     10.1634/stemcells.2007-0216          2007.0 -0.004497         66.0   \n",
       "4              10.3139/146.101520          2007.0 -0.004373         25.0   \n",
       "\n",
       "   mean_ref_year  years_gap  num_of_authors  num_of_subjects  num_of_aff  \n",
       "0    1987.333333        1.0             1.0              4.0         0.0  \n",
       "1            NaN        NaN             1.0              1.0         1.0  \n",
       "2            NaN        NaN             4.0              4.0         0.0  \n",
       "3    2004.257576       18.0             8.0              3.0         3.0  \n",
       "4    2002.480000       40.0             3.0              4.0         1.0  "
      ]
     },
     "execution_count": 17,
     "metadata": {},
     "output_type": "execute_result"
    }
   ],
   "source": [
    "works = works.merge(num_of_refs, how=\"left\", left_on=\"id\", right_on=\"work_id\")\n",
    "works = works.merge(mean_ref_year, how=\"left\", left_on=\"id\", right_on=\"work_id\")\n",
    "works = works.merge(cite_diff, how=\"left\", left_on=\"id\", right_on=\"work_id\")\n",
    "works = works.merge(authors, how=\"left\", left_on=\"id\", right_on=\"work_id\")\n",
    "works = works.merge(num_of_subjects, how=\"left\", left_on=\"id\", right_on=\"work_id\")\n",
    "works = works.merge(num_of_aff, how=\"left\", left_on=\"id\", right_on=\"work_id\")\n",
    "works = works.drop(['published_month', 'published_day'], axis=1)\n",
    "works.head()"
   ]
  },
  {
   "cell_type": "markdown",
   "id": "3453ae4a",
   "metadata": {},
   "source": [
    "We can't make good predictions with incomplete data so we will remove rows with missing values."
   ]
  },
  {
   "cell_type": "code",
   "execution_count": 18,
   "id": "c65cdcc6",
   "metadata": {},
   "outputs": [
    {
     "data": {
      "text/plain": [
       "id                     0\n",
       "abstract               0\n",
       "title                  0\n",
       "doi                    0\n",
       "published_year         0\n",
       "cdindex                0\n",
       "num_of_refs        16923\n",
       "mean_ref_year      29406\n",
       "years_gap          29406\n",
       "num_of_authors       309\n",
       "num_of_subjects    10433\n",
       "num_of_aff           309\n",
       "dtype: int64"
      ]
     },
     "execution_count": 18,
     "metadata": {},
     "output_type": "execute_result"
    }
   ],
   "source": [
    "works.isna().sum()"
   ]
  },
  {
   "cell_type": "code",
   "execution_count": 19,
   "id": "1d44aad0",
   "metadata": {},
   "outputs": [],
   "source": [
    "works.dropna(inplace=True)\n",
    "works.reset_index(drop=True,inplace=True)"
   ]
  },
  {
   "cell_type": "markdown",
   "id": "05f591d3",
   "metadata": {},
   "source": [
    "Now for the remaining data we will calculate the unique / total words that the abstracts and titles contain.\n",
    "\n",
    "As stated by the authors a linguistic change is analogous with the disruptiveness decrease, so it will probably make our models predictions better."
   ]
  },
  {
   "cell_type": "code",
   "execution_count": 20,
   "id": "903e14f9",
   "metadata": {},
   "outputs": [],
   "source": [
    "titles = works[[\"title\",\"published_year\"]].copy()"
   ]
  },
  {
   "cell_type": "code",
   "execution_count": 21,
   "id": "c8e9c2f9",
   "metadata": {},
   "outputs": [],
   "source": [
    "abstracts = works[[\"abstract\",\"published_year\"]].copy()"
   ]
  },
  {
   "cell_type": "markdown",
   "id": "24946b0e",
   "metadata": {},
   "source": [
    "We are going to lemmatize the words to calculate the occurrences of every word"
   ]
  },
  {
   "cell_type": "code",
   "execution_count": 22,
   "id": "0c8ffaa5",
   "metadata": {},
   "outputs": [],
   "source": [
    "lemmatizer = WordNetLemmatizer()\n",
    "w_tokenizer = WhitespaceTokenizer()\n",
    "\n",
    "def lemmatize_text(text):\n",
    "    return \" \".join(lemmatizer.lemmatize(w) for w in w_tokenizer.tokenize(text))\n",
    "\n",
    "titles[\"title\"] = titles[\"title\"].apply(lemmatize_text)\n",
    "abstracts[\"abstract\"] = abstracts[\"abstract\"].apply(lemmatize_text)"
   ]
  },
  {
   "cell_type": "markdown",
   "id": "5b9c7e6f",
   "metadata": {},
   "source": [
    "To calculate the unique words in a paper we have to take into account that the comparison has to be only with the previous papers and not with the whole dataset."
   ]
  },
  {
   "cell_type": "markdown",
   "id": "565a5ef1",
   "metadata": {},
   "source": [
    "We will use a CountVectorizer to produce a Bag of Words. We set *max_df* to 1 so we only get words that are unique and only appear in one title. \n",
    "\n",
    "For the titles we will use unique words as our metric.\n",
    "\n",
    "For the abstracts we will use pairs of words as our metric\n",
    "\n",
    "This will take some time (about 2 min.) to run."
   ]
  },
  {
   "cell_type": "code",
   "execution_count": 23,
   "id": "91348101",
   "metadata": {},
   "outputs": [],
   "source": [
    "# set temporary values\n",
    "titles[\"unique\"] = -1\n",
    "abstracts[\"unique\"] = -1\n",
    "# set vectorizers\n",
    "titles_vectorizer = CountVectorizer(stop_words=\"english\",max_df=1)\n",
    "abstracts_vectorizer = CountVectorizer(stop_words=\"english\",max_df=1,ngram_range=(2,2))\n",
    "\n",
    "# unique years list\n",
    "years = sorted(works[\"published_year\"].unique())\n",
    "for year in years:\n",
    "    \n",
    "    # all papers that got published that year and before\n",
    "    titles_before = titles[titles[\"published_year\"] <= year].copy()\n",
    "    abstracts_before = abstracts[abstracts[\"published_year\"] <= year].copy()\n",
    "    \n",
    "    # fit vectorizer on all previous papers\n",
    "    vectors1 = titles_vectorizer.fit(titles_before[\"title\"])\n",
    "    vectors2 = abstracts_vectorizer.fit(abstracts_before[\"abstract\"])\n",
    "    \n",
    "    # all papers that year\n",
    "    titles_that_year = titles[titles[\"published_year\"] == year]\n",
    "    abstracts_that_year = abstracts[abstracts[\"published_year\"] == year]\n",
    "    \n",
    "    # only transfrom on current year papers \n",
    "    title_vectors = vectors1.transform(titles_that_year[\"title\"])\n",
    "    abstract_vectors = vectors2.transform(abstracts_that_year[\"abstract\"])\n",
    "    \n",
    "    # matrix\n",
    "    num_of_unique_words_in_titles = title_vectors.sum(axis=1) \n",
    "    num_of_unique_pairs_in_abstracts = abstract_vectors.sum(axis=1) \n",
    "    \n",
    "    # DataFrame\n",
    "    num_of_unique_words_in_titles = pd.DataFrame(num_of_unique_words_in_titles,columns=[\"unique\"])\n",
    "    num_of_unique_pairs_in_abstracts = pd.DataFrame(num_of_unique_pairs_in_abstracts,columns=[\"unique\"])\n",
    "    \n",
    "    # dataframe with same index\n",
    "    num_of_unique_words_in_titles = num_of_unique_words_in_titles.set_index(titles.loc[titles[\"published_year\"] == year,\"unique\"].index)\n",
    "    num_of_unique_pairs_in_abstracts = num_of_unique_pairs_in_abstracts.set_index(abstracts.loc[abstracts[\"published_year\"] == year,\"unique\"].index)\n",
    "    \n",
    "    # set the value\n",
    "    titles.loc[titles[\"published_year\"] == year,\"unique\"] = num_of_unique_words_in_titles\n",
    "    abstracts.loc[abstracts[\"published_year\"] == year,\"unique\"] = num_of_unique_pairs_in_abstracts\n"
   ]
  },
  {
   "cell_type": "markdown",
   "id": "cf690765",
   "metadata": {},
   "source": [
    "After fitting the CountVectorizers we define a function to measure the number of words in a phrase, so we can calculate the ratio of unique words in titles and pairs in abstracts"
   ]
  },
  {
   "cell_type": "code",
   "execution_count": 24,
   "id": "af801799",
   "metadata": {},
   "outputs": [],
   "source": [
    "def count_words_in_phrase(phrase):\n",
    "    return len(phrase.split())"
   ]
  },
  {
   "cell_type": "code",
   "execution_count": 25,
   "id": "fc0a50a4",
   "metadata": {},
   "outputs": [],
   "source": [
    "num_of_words_in_titles = titles[\"title\"].apply(count_words_in_phrase)\n",
    "\n",
    "unique_ratio_titles = titles[\"unique\"] / num_of_words_in_titles\n",
    "\n",
    "works[\"unique_titles_ratio\"] = unique_ratio_titles"
   ]
  },
  {
   "cell_type": "code",
   "execution_count": 26,
   "id": "80c31d30",
   "metadata": {
    "scrolled": true
   },
   "outputs": [],
   "source": [
    "num_of_pairs_in_abstracts = abstracts[\"abstract\"].apply(count_words_in_phrase) - 1\n",
    "\n",
    "unique_ratio_abstracts = abstracts[\"unique\"] / num_of_pairs_in_abstracts\n",
    "\n",
    "works[\"unique_abstract_ratio\"] = unique_ratio_abstracts"
   ]
  },
  {
   "cell_type": "code",
   "execution_count": 48,
   "id": "61e5372c",
   "metadata": {
    "scrolled": false
   },
   "outputs": [
    {
     "data": {
      "text/html": [
       "<div>\n",
       "<style scoped>\n",
       "    .dataframe tbody tr th:only-of-type {\n",
       "        vertical-align: middle;\n",
       "    }\n",
       "\n",
       "    .dataframe tbody tr th {\n",
       "        vertical-align: top;\n",
       "    }\n",
       "\n",
       "    .dataframe thead th {\n",
       "        text-align: right;\n",
       "    }\n",
       "</style>\n",
       "<table border=\"1\" class=\"dataframe\">\n",
       "  <thead>\n",
       "    <tr style=\"text-align: right;\">\n",
       "      <th></th>\n",
       "      <th>id</th>\n",
       "      <th>abstract</th>\n",
       "      <th>title</th>\n",
       "      <th>doi</th>\n",
       "      <th>published_year</th>\n",
       "      <th>cdindex</th>\n",
       "      <th>num_of_refs</th>\n",
       "      <th>mean_ref_year</th>\n",
       "      <th>years_gap</th>\n",
       "      <th>num_of_authors</th>\n",
       "      <th>num_of_subjects</th>\n",
       "      <th>num_of_aff</th>\n",
       "      <th>unique_titles_ratio</th>\n",
       "      <th>unique_abstract_ratio</th>\n",
       "    </tr>\n",
       "  </thead>\n",
       "  <tbody>\n",
       "    <tr>\n",
       "      <th>0</th>\n",
       "      <td>171</td>\n",
       "      <td>The photolysis of dilute solutions of octacycl...</td>\n",
       "      <td>On photolytic synthesis of sulphur-bearing org...</td>\n",
       "      <td>10.1017/s1473550406002904</td>\n",
       "      <td>2007.0</td>\n",
       "      <td>0.000000</td>\n",
       "      <td>23.0</td>\n",
       "      <td>1987.333333</td>\n",
       "      <td>1.0</td>\n",
       "      <td>1.0</td>\n",
       "      <td>4.0</td>\n",
       "      <td>0.0</td>\n",
       "      <td>0.150000</td>\n",
       "      <td>0.438095</td>\n",
       "    </tr>\n",
       "    <tr>\n",
       "      <th>1</th>\n",
       "      <td>299</td>\n",
       "      <td>Despite rapid advances in the stem cell field,...</td>\n",
       "      <td>Noninvasive Tracking of Cardiac Embryonic Stem...</td>\n",
       "      <td>10.1634/stemcells.2007-0216</td>\n",
       "      <td>2007.0</td>\n",
       "      <td>-0.004497</td>\n",
       "      <td>66.0</td>\n",
       "      <td>2004.257576</td>\n",
       "      <td>18.0</td>\n",
       "      <td>8.0</td>\n",
       "      <td>3.0</td>\n",
       "      <td>3.0</td>\n",
       "      <td>0.000000</td>\n",
       "      <td>0.442308</td>\n",
       "    </tr>\n",
       "    <tr>\n",
       "      <th>2</th>\n",
       "      <td>373</td>\n",
       "      <td>For the regenerative therapy of osteochondral ...</td>\n",
       "      <td>Biphasic, but monolithic scaffolds for the the...</td>\n",
       "      <td>10.3139/146.101520</td>\n",
       "      <td>2007.0</td>\n",
       "      <td>-0.004373</td>\n",
       "      <td>25.0</td>\n",
       "      <td>2002.480000</td>\n",
       "      <td>40.0</td>\n",
       "      <td>3.0</td>\n",
       "      <td>4.0</td>\n",
       "      <td>1.0</td>\n",
       "      <td>0.300000</td>\n",
       "      <td>0.429688</td>\n",
       "    </tr>\n",
       "    <tr>\n",
       "      <th>3</th>\n",
       "      <td>471</td>\n",
       "      <td>ABSTRACT The geological environment of two Sou...</td>\n",
       "      <td>Investigations into the role of groundwater in...</td>\n",
       "      <td>10.1144/gsl.eng.1986.003.01.13</td>\n",
       "      <td>1986.0</td>\n",
       "      <td>0.050000</td>\n",
       "      <td>41.0</td>\n",
       "      <td>1972.666667</td>\n",
       "      <td>23.0</td>\n",
       "      <td>1.0</td>\n",
       "      <td>1.0</td>\n",
       "      <td>1.0</td>\n",
       "      <td>0.285714</td>\n",
       "      <td>0.495050</td>\n",
       "    </tr>\n",
       "    <tr>\n",
       "      <th>4</th>\n",
       "      <td>517</td>\n",
       "      <td>ABSTRACT The construction of a landfill site i...</td>\n",
       "      <td>Site investigations techniques used to assess ...</td>\n",
       "      <td>10.1144/gsl.eng.1986.003.01.22</td>\n",
       "      <td>1986.0</td>\n",
       "      <td>0.000000</td>\n",
       "      <td>7.0</td>\n",
       "      <td>1984.000000</td>\n",
       "      <td>0.0</td>\n",
       "      <td>2.0</td>\n",
       "      <td>1.0</td>\n",
       "      <td>2.0</td>\n",
       "      <td>0.266667</td>\n",
       "      <td>0.469388</td>\n",
       "    </tr>\n",
       "  </tbody>\n",
       "</table>\n",
       "</div>"
      ],
      "text/plain": [
       "    id                                           abstract  \\\n",
       "0  171  The photolysis of dilute solutions of octacycl...   \n",
       "1  299  Despite rapid advances in the stem cell field,...   \n",
       "2  373  For the regenerative therapy of osteochondral ...   \n",
       "3  471  ABSTRACT The geological environment of two Sou...   \n",
       "4  517  ABSTRACT The construction of a landfill site i...   \n",
       "\n",
       "                                               title  \\\n",
       "0  On photolytic synthesis of sulphur-bearing org...   \n",
       "1  Noninvasive Tracking of Cardiac Embryonic Stem...   \n",
       "2  Biphasic, but monolithic scaffolds for the the...   \n",
       "3  Investigations into the role of groundwater in...   \n",
       "4  Site investigations techniques used to assess ...   \n",
       "\n",
       "                              doi  published_year   cdindex  num_of_refs  \\\n",
       "0       10.1017/s1473550406002904          2007.0  0.000000         23.0   \n",
       "1     10.1634/stemcells.2007-0216          2007.0 -0.004497         66.0   \n",
       "2              10.3139/146.101520          2007.0 -0.004373         25.0   \n",
       "3  10.1144/gsl.eng.1986.003.01.13          1986.0  0.050000         41.0   \n",
       "4  10.1144/gsl.eng.1986.003.01.22          1986.0  0.000000          7.0   \n",
       "\n",
       "   mean_ref_year  years_gap  num_of_authors  num_of_subjects  num_of_aff  \\\n",
       "0    1987.333333        1.0             1.0              4.0         0.0   \n",
       "1    2004.257576       18.0             8.0              3.0         3.0   \n",
       "2    2002.480000       40.0             3.0              4.0         1.0   \n",
       "3    1972.666667       23.0             1.0              1.0         1.0   \n",
       "4    1984.000000        0.0             2.0              1.0         2.0   \n",
       "\n",
       "   unique_titles_ratio  unique_abstract_ratio  \n",
       "0             0.150000               0.438095  \n",
       "1             0.000000               0.442308  \n",
       "2             0.300000               0.429688  \n",
       "3             0.285714               0.495050  \n",
       "4             0.266667               0.469388  "
      ]
     },
     "execution_count": 48,
     "metadata": {},
     "output_type": "execute_result"
    }
   ],
   "source": [
    "works.head()"
   ]
  },
  {
   "cell_type": "markdown",
   "id": "d22a3181",
   "metadata": {},
   "source": [
    "If we plot the ratios we calculated we can see the decline in language diversity stated by the authors"
   ]
  },
  {
   "cell_type": "code",
   "execution_count": 28,
   "id": "8bb9f14d",
   "metadata": {},
   "outputs": [
    {
     "data": {
      "text/plain": [
       "<AxesSubplot:title={'center':'Unique Pair ratio in Abstracts'}, xlabel='published_year', ylabel='unique_abstract_ratio'>"
      ]
     },
     "execution_count": 28,
     "metadata": {},
     "output_type": "execute_result"
    },
    {
     "data": {
      "image/png": "[encoded data removed]",
      "text/plain": [
       "<Figure size 1080x432 with 2 Axes>"
      ]
     },
     "metadata": {
      "needs_background": "light"
     },
     "output_type": "display_data"
    }
   ],
   "source": [
    "fig, (ax1, ax2) = plt.subplots(1, 2, figsize=(15, 6))\n",
    "ax1.set_title(\"Unique Words ratio in Titles\")\n",
    "sns.lineplot(x= works[\"published_year\"], y=works[\"unique_titles_ratio\"],ax=ax1)\n",
    "ax2.set_title(\"Unique Pair ratio in Abstracts\")\n",
    "sns.lineplot(x= works[\"published_year\"], y=works[\"unique_abstract_ratio\"],ax=ax2)"
   ]
  },
  {
   "cell_type": "markdown",
   "id": "ebcb4347",
   "metadata": {},
   "source": [
    "If we plot the values of our target value we see that we have a distribution problem. Most of our data is about close to 0 cdindex values.\n",
    "\n",
    "So other data is not well represented."
   ]
  },
  {
   "cell_type": "code",
   "execution_count": 29,
   "id": "ab5b2fe3",
   "metadata": {},
   "outputs": [
    {
     "data": {
      "text/plain": [
       "<seaborn.axisgrid.FacetGrid at 0x1ab96ae0f40>"
      ]
     },
     "execution_count": 29,
     "metadata": {},
     "output_type": "execute_result"
    },
    {
     "data": {
      "image/png": "[encoded data removed]",
      "text/plain": [
       "<Figure size 360x360 with 1 Axes>"
      ]
     },
     "metadata": {
      "needs_background": "light"
     },
     "output_type": "display_data"
    }
   ],
   "source": [
    "sns.displot(works[\"cdindex\"], bins=50)"
   ]
  },
  {
   "cell_type": "markdown",
   "id": "6506c9ab",
   "metadata": {},
   "source": [
    "Normally we would like to implement an oversampling or undersampling technique to avoid this problem. After implementing SMOTE on binned target values there was no improvement to our models so we decided not to continue with it.\n",
    "\n",
    "Although we have kept this part commented out."
   ]
  },
  {
   "cell_type": "code",
   "execution_count": 30,
   "id": "42764d64",
   "metadata": {},
   "outputs": [],
   "source": [
    "# # divide cdindex into 8 groups\n",
    "# works[\"binned_cdindex\"] = pd.cut(works[\"cdindex\"],8, labels=False)\n",
    "\n",
    "# # keep the desired columns\n",
    "# df = works.loc[:,\"published_year\":\"binned_cdindex\"].dropna()\n",
    "\n",
    "# # take the values\n",
    "# index = df.pop(\"binned_cdindex\").values # we keep the binned cd index as target value\n",
    "# features = df.values\n",
    "# features_cols = df.columns\n",
    "\n",
    "# # split train and test set\n",
    "# X_train, X_test, y_train, y_test = train_test_split(features, index, test_size=0.75, \n",
    "#                                                     stratify=index, random_state=42)\n",
    "\n",
    "# from imblearn.over_sampling import SMOTE\n",
    "\n",
    "# # perform SMOTE to produce evenly distributed target values\n",
    "# sm = SMOTE(k_neighbors=4,random_state=42)\n",
    "# X_res, y_res = sm.fit_resample(X_train, y_train)\n",
    "\n",
    "# # Now we throw away the binned cdindex and keep as target the new cdindex values SMOTE produced\n",
    "# y_train = X_res[:,1]\n",
    "# X_train = np.hstack((X_res[:,0:1],X_res[:,2:]))\n",
    "# y_test = X_test[:,1]\n",
    "# X_test = np.hstack((X_test[:,0:1],X_test[:,2:]))\n",
    "\n",
    "# index = df.pop(\"cdindex\").values\n",
    "# features_cols = df.columns"
   ]
  },
  {
   "cell_type": "markdown",
   "id": "4b5dc46f",
   "metadata": {},
   "source": [
    "---"
   ]
  },
  {
   "cell_type": "markdown",
   "id": "fca245d3",
   "metadata": {},
   "source": [
    "After extracting as much data as we could from the dataset we have, we will start building a some regressors to se how good they can handle your data to provide predictions."
   ]
  },
  {
   "cell_type": "code",
   "execution_count": 31,
   "id": "434b9db1",
   "metadata": {},
   "outputs": [],
   "source": [
    "# DataFrame with the features values that we will use\n",
    "df = works.loc[:,\"published_year\":\"unique_abstract_ratio\"].dropna()\n",
    "\n",
    "# get the values \n",
    "index = df.pop(\"cdindex\").values\n",
    "features = df.values\n",
    "features_cols = df.columns"
   ]
  },
  {
   "cell_type": "markdown",
   "id": "4a5db3f5",
   "metadata": {},
   "source": [
    "We split our final dataset into training and testing datasets"
   ]
  },
  {
   "cell_type": "code",
   "execution_count": 32,
   "id": "a6cb959a",
   "metadata": {},
   "outputs": [],
   "source": [
    "X_train, X_test, y_train, y_test = train_test_split(features, index, test_size=0.25,random_state=42)"
   ]
  },
  {
   "cell_type": "markdown",
   "id": "eaad9f98",
   "metadata": {},
   "source": [
    "First we will see what a simple DecisionTreeRegressor can do."
   ]
  },
  {
   "cell_type": "markdown",
   "id": "fbf5de5e",
   "metadata": {},
   "source": [
    "We will perform a Grid Search to find the best depth for our tree"
   ]
  },
  {
   "cell_type": "code",
   "execution_count": 33,
   "id": "e86a7d49",
   "metadata": {},
   "outputs": [
    {
     "name": "stdout",
     "output_type": "stream",
     "text": [
      "DecisionTreeRegressor(max_depth=3)\n",
      "{'max_depth': 3}\n"
     ]
    }
   ],
   "source": [
    "parameters = [{'max_depth': list(range(1, 10))}]\n",
    "\n",
    "cv = KFold(n_splits=5, shuffle=True, random_state=42)\n",
    "clf = GridSearchCV(DecisionTreeRegressor(), parameters, cv=cv)\n",
    "\n",
    "clf = clf.fit(X_test, y_test)\n",
    "\n",
    "print(clf.best_estimator_)\n",
    "print(clf.best_params_)"
   ]
  },
  {
   "cell_type": "markdown",
   "id": "cf591f96",
   "metadata": {},
   "source": [
    "To evaluate our model's predicting ability we monitor the negative mean absolute error score."
   ]
  },
  {
   "cell_type": "code",
   "execution_count": 34,
   "id": "3a6d67fb",
   "metadata": {},
   "outputs": [
    {
     "name": "stdout",
     "output_type": "stream",
     "text": [
      "[0.03668113 0.03694819 0.03487869 0.03249863 0.03464104] 0.035129533301371606 0.0008043056245430722\n",
      "0.03615050281668712\n"
     ]
    }
   ],
   "source": [
    "cv = KFold(n_splits=5, shuffle=True, random_state=42)\n",
    "scores = -cross_val_score(clf.best_estimator_, X_train, y_train, cv=cv,scoring='neg_mean_absolute_error')\n",
    "mean_score = np.mean(scores)\n",
    "print(scores, mean_score, sem(scores))\n",
    "\n",
    "clf.best_estimator_.fit(X_train, y_train)\n",
    "pred = clf.best_estimator_.predict(X_test)\n",
    "print(mean_absolute_error(y_test,pred))\n",
    "\n"
   ]
  },
  {
   "cell_type": "markdown",
   "id": "a827b71b",
   "metadata": {},
   "source": [
    "We see that the mean score of the cross validation on the train dataset is 0.035. \n",
    "\n",
    "Testing on the test dataset we observe that the score is 0.036, very close to the train score.\n",
    "\n",
    "This means that our predictions are off for about 0.036."
   ]
  },
  {
   "cell_type": "markdown",
   "id": "959de177",
   "metadata": {},
   "source": [
    "We can visualize the tree that was constructed to have a better understanding of it."
   ]
  },
  {
   "cell_type": "code",
   "execution_count": 35,
   "id": "ee497f37",
   "metadata": {
    "scrolled": false
   },
   "outputs": [
    {
     "data": {
      "image/png": "[encoded data removed]",
      "text/plain": [
       "<IPython.core.display.Image object>"
      ]
     },
     "execution_count": 35,
     "metadata": {},
     "output_type": "execute_result"
    }
   ],
   "source": [
    "dot_data = StringIO()  \n",
    "tree.export_graphviz(clf.best_estimator_, out_file=dot_data,  \n",
    "                     feature_names=features_cols,  \n",
    "                     filled=True, rounded=True,  \n",
    "                     special_characters=True)  \n",
    "graph = pydotplus.graph_from_dot_data(dot_data.getvalue())\n",
    "Image(graph.create_png())  "
   ]
  },
  {
   "cell_type": "markdown",
   "id": "b610b896",
   "metadata": {},
   "source": [
    "Then we are going to try a XGBoost and a LightGBM Regressor"
   ]
  },
  {
   "cell_type": "code",
   "execution_count": 36,
   "id": "1b9ad5fd",
   "metadata": {},
   "outputs": [
    {
     "name": "stdout",
     "output_type": "stream",
     "text": [
      "Cross Validation scores : [0.03902198 0.03338319 0.03617188 0.03786261 0.03627227]\n",
      "Mean Cross Validation score : 0.03654238389649204\n",
      "Mean Absolute Error on test data : 0.036559478579089644\n"
     ]
    }
   ],
   "source": [
    "xgb_reg = xgb.XGBRegressor(n_estimators=50, random_state= 42)\n",
    "\n",
    "scores = -cross_val_score(xgb_reg, X_train, y_train, scoring=\"neg_mean_absolute_error\", cv=5)\n",
    "\n",
    "xgb_reg.fit(X_train, y_train)\n",
    "preds = xgb_reg.predict(X_test)\n",
    "\n",
    "print(f\"Cross Validation scores : {scores}\")\n",
    "print(f\"Mean Cross Validation score : {np.mean(scores)}\")\n",
    "print(f\"Mean Absolute Error on test data : {mean_absolute_error(y_test, preds)}\")"
   ]
  },
  {
   "cell_type": "code",
   "execution_count": 37,
   "id": "28db9164",
   "metadata": {},
   "outputs": [
    {
     "name": "stdout",
     "output_type": "stream",
     "text": [
      "Cross Validation scores : [0.0361156  0.03022393 0.0325911  0.03484272 0.03364799]\n",
      "Mean Cross Validation score : 0.03348426854264362\n",
      "Mean Absolute Error on test data : 0.03468668592366335\n"
     ]
    }
   ],
   "source": [
    "lgb_reg = lgb.LGBMRegressor(n_estimators=50, random_state= 42)\n",
    "\n",
    "scores = -cross_val_score(lgb_reg, X_train, y_train, scoring=\"neg_mean_absolute_error\", cv=5)\n",
    "\n",
    "lgb_reg.fit(X_train, y_train, feature_name=list(features_cols))\n",
    "preds = lgb_reg.predict(X_test)\n",
    "\n",
    "print(f\"Cross Validation scores : {scores}\")\n",
    "print(f\"Mean Cross Validation score : {np.mean(scores)}\")\n",
    "print(f\"Mean Absolute Error on test data : {mean_absolute_error(y_test, preds)}\")"
   ]
  },
  {
   "cell_type": "markdown",
   "id": "70bd6e42",
   "metadata": {},
   "source": [
    "Even though these Regressors are considered way better than the simple Decision Tree, the limitations of the dataset and the lack of good features to describe the target value, we see no significant improvement."
   ]
  },
  {
   "cell_type": "markdown",
   "id": "2b673874",
   "metadata": {},
   "source": [
    "For better understanding we can also plot the importance of every feature in the two regressors."
   ]
  },
  {
   "cell_type": "code",
   "execution_count": 38,
   "id": "f576076b",
   "metadata": {},
   "outputs": [
    {
     "data": {
      "text/plain": [
       "Text(0.5, 1.0, 'Feature importance on LightGBMRegressor')"
      ]
     },
     "execution_count": 38,
     "metadata": {},
     "output_type": "execute_result"
    },
    {
     "data": {
      "image/png": "[encoded data removed]",
      "text/plain": [
       "<Figure size 576x1080 with 2 Axes>"
      ]
     },
     "metadata": {
      "needs_background": "light"
     },
     "output_type": "display_data"
    }
   ],
   "source": [
    "fig ,(ax1,ax2) = plt.subplots(2, 1,figsize=(8, 15))\n",
    "\n",
    "xgb_reg.get_booster().feature_names = list(features_cols)\n",
    "xgb.plot_importance(xgb_reg, ax = ax1)\n",
    "ax1.set_title(\"Feature importance on XGBoostRegressor\")\n",
    "\n",
    "lgb.plot_importance(lgb_reg, figsize=(8, 6),ax=ax2)\n",
    "ax2.set_title(\"Feature importance on LightGBMRegressor\")"
   ]
  },
  {
   "cell_type": "markdown",
   "id": "bec658aa",
   "metadata": {},
   "source": [
    "Lastly we are going to make two Ensemble models, a Voting Regressor and a Stacking Regressor.\n",
    "\n",
    "For both ensembles we will use XGBoost and LightGBM estimators."
   ]
  },
  {
   "cell_type": "markdown",
   "id": "25b49ed8",
   "metadata": {},
   "source": [
    "Voting Regressor:"
   ]
  },
  {
   "cell_type": "code",
   "execution_count": 39,
   "id": "9597f7e3",
   "metadata": {},
   "outputs": [
    {
     "name": "stdout",
     "output_type": "stream",
     "text": [
      "Cross Validation scores : [0.03684892 0.0312033  0.03373942 0.03573711 0.03435641]\n",
      "Mean Cross Validation score : 0.03437703009407109\n",
      "Mean Absolute Error on test data : 0.03503429844620456\n"
     ]
    }
   ],
   "source": [
    "xgb_reg = xgb.XGBRegressor(n_estimators=50)\n",
    "lgb_reg = lgb.LGBMRegressor(n_estimators=50)\n",
    "vreg = VotingRegressor(estimators=[('xgb', xgb_reg), \n",
    "                                   ('lgb', lgb_reg)],\n",
    "                       n_jobs=-1)\n",
    "                     \n",
    "scores = -cross_val_score(vreg,  X_train, y_train,\n",
    "                         cv=5, scoring='neg_mean_absolute_error', n_jobs=-1)\n",
    "\n",
    "vreg.fit(X_train, y_train)\n",
    "pred = vreg.predict(X_test)  \n",
    "\n",
    "print(f\"Cross Validation scores : {scores}\")\n",
    "print(f\"Mean Cross Validation score : {np.mean(scores)}\")\n",
    "print(f\"Mean Absolute Error on test data : {mean_absolute_error(y_test, pred)}\")"
   ]
  },
  {
   "cell_type": "markdown",
   "id": "4166817a",
   "metadata": {},
   "source": [
    "Stacking Regressor:"
   ]
  },
  {
   "cell_type": "code",
   "execution_count": 40,
   "id": "7d0ae8e8",
   "metadata": {},
   "outputs": [
    {
     "name": "stdout",
     "output_type": "stream",
     "text": [
      "Cross Validation scores : [0.03598363 0.03015841 0.03249374 0.0346639  0.03351732]\n",
      "Mean Cross Validation score : 0.03336339939708642\n",
      "Mean Absolute Error on test data : 0.03438083543182294\n"
     ]
    }
   ],
   "source": [
    "xgb_reg = xgb.XGBRegressor(n_estimators=50)\n",
    "lgb_reg = lgb.LGBMRegressor(n_estimators=50)\n",
    "\n",
    "estimators = [('xgb', xgb_reg), ('lgb', lgb_reg)]\n",
    "final_estimator = LinearRegression()\n",
    "\n",
    "sreg = StackingRegressor(estimators=estimators, final_estimator=final_estimator, n_jobs=-1)\n",
    "\n",
    "scores = -cross_val_score(sreg, X_train, y_train,\n",
    "                         cv=5, scoring='neg_mean_absolute_error', n_jobs=-1)\n",
    "\n",
    "sreg.fit(X_train, y_train)\n",
    "pred = sreg.predict(X_test)\n",
    "\n",
    "\n",
    "print(f\"Cross Validation scores : {scores}\")\n",
    "print(f\"Mean Cross Validation score : {np.mean(scores)}\")\n",
    "print(f\"Mean Absolute Error on test data : {mean_absolute_error(y_test, pred)}\")"
   ]
  },
  {
   "cell_type": "markdown",
   "id": "9a0a1cae",
   "metadata": {},
   "source": [
    "We achieved some minor improvements with the ensemble models but overall the limitations of the dataset does not let us improve to the desired level."
   ]
  },
  {
   "cell_type": "markdown",
   "id": "ada139f4",
   "metadata": {},
   "source": [
    "---"
   ]
  },
  {
   "cell_type": "markdown",
   "id": "be041497",
   "metadata": {},
   "source": [
    "Now let's explore the use of a Neural Network"
   ]
  },
  {
   "cell_type": "markdown",
   "id": "ae46a73e",
   "metadata": {},
   "source": [
    "We have the splitted dataset from the previous models.\n",
    "\n",
    "This time we are going to perform a normalization to our data, as there is large variation among the feature columns."
   ]
  },
  {
   "cell_type": "code",
   "execution_count": 41,
   "id": "fedecda3",
   "metadata": {},
   "outputs": [],
   "source": [
    "normalizer = preprocessing.Normalization()\n",
    "normalizer.adapt(np.array(X_train))"
   ]
  },
  {
   "cell_type": "markdown",
   "id": "52d6413c",
   "metadata": {},
   "source": [
    "We proceed to create the model.\n",
    "\n",
    "We'll put the model creation code in a function."
   ]
  },
  {
   "cell_type": "code",
   "execution_count": 42,
   "id": "83e9944c",
   "metadata": {},
   "outputs": [],
   "source": [
    "def build_compile_model():\n",
    "    model = keras.Sequential([\n",
    "        normalizer,\n",
    "        layers.Dense(64, activation='relu'),\n",
    "        layers.Dense(32, activation='relu'),\n",
    "        layers.Dense(1)\n",
    "    ])\n",
    "\n",
    "    model.compile(loss='mean_absolute_error',\n",
    "                  optimizer=tf.keras.optimizers.Adam(0.001))\n",
    "    \n",
    "    return model"
   ]
  },
  {
   "cell_type": "markdown",
   "id": "13bcd979",
   "metadata": {},
   "source": [
    "For our model we conclude that it will contain a Normalizer, two hidden layers consisted by 64 and 32 neutrons accordingly, and a final layer of one neuron that will produce the final prediction.\n",
    "\n",
    "We define the loss function as the mean absolute error. This also helps us to make comparison with the decision trees results. \n",
    "\n",
    "Our optimizer will be the Adam optimizer."
   ]
  },
  {
   "cell_type": "code",
   "execution_count": 43,
   "id": "a9a15889",
   "metadata": {},
   "outputs": [
    {
     "name": "stdout",
     "output_type": "stream",
     "text": [
      "Model: \"sequential\"\n",
      "_________________________________________________________________\n",
      " Layer (type)                Output Shape              Param #   \n",
      "=================================================================\n",
      " normalization (Normalizatio  (None, 9)                19        \n",
      " n)                                                              \n",
      "                                                                 \n",
      " dense (Dense)               (None, 64)                640       \n",
      "                                                                 \n",
      " dense_1 (Dense)             (None, 32)                2080      \n",
      "                                                                 \n",
      " dense_2 (Dense)             (None, 1)                 33        \n",
      "                                                                 \n",
      "=================================================================\n",
      "Total params: 2,772\n",
      "Trainable params: 2,753\n",
      "Non-trainable params: 19\n",
      "_________________________________________________________________\n"
     ]
    }
   ],
   "source": [
    "model = build_compile_model()\n",
    "model.summary()"
   ]
  },
  {
   "cell_type": "markdown",
   "id": "5312619d",
   "metadata": {},
   "source": [
    "We set the initial number of epochs to 100 but we also define an Early Stopping condition that monitors the validation score and stops the epochs when no improvement is made in 10 consecutive ones.\n",
    "\n",
    "We also define a bigger batch_size than the default as the dataset is very uneven and we want bigger samples to avoid misrepresentation."
   ]
  },
  {
   "cell_type": "code",
   "execution_count": 44,
   "id": "85581ccb",
   "metadata": {
    "scrolled": true
   },
   "outputs": [
    {
     "name": "stdout",
     "output_type": "stream",
     "text": [
      "Epoch 1/100\n",
      "277/277 [==============================] - 1s 2ms/step - loss: 0.0512 - val_loss: 0.0382\n",
      "Epoch 2/100\n",
      "277/277 [==============================] - 0s 2ms/step - loss: 0.0353 - val_loss: 0.0344\n",
      "Epoch 3/100\n",
      "277/277 [==============================] - 0s 2ms/step - loss: 0.0325 - val_loss: 0.0323\n",
      "Epoch 4/100\n",
      "277/277 [==============================] - 0s 2ms/step - loss: 0.0321 - val_loss: 0.0313\n",
      "Epoch 5/100\n",
      "277/277 [==============================] - 0s 2ms/step - loss: 0.0307 - val_loss: 0.0311\n",
      "Epoch 6/100\n",
      "277/277 [==============================] - 0s 2ms/step - loss: 0.0305 - val_loss: 0.0305\n",
      "Epoch 7/100\n",
      "277/277 [==============================] - 0s 2ms/step - loss: 0.0297 - val_loss: 0.0309\n",
      "Epoch 8/100\n",
      "277/277 [==============================] - 0s 2ms/step - loss: 0.0297 - val_loss: 0.0305\n",
      "Epoch 9/100\n",
      "277/277 [==============================] - 0s 2ms/step - loss: 0.0291 - val_loss: 0.0306\n",
      "Epoch 10/100\n",
      "277/277 [==============================] - 0s 2ms/step - loss: 0.0290 - val_loss: 0.0295\n",
      "Epoch 11/100\n",
      "277/277 [==============================] - 0s 2ms/step - loss: 0.0288 - val_loss: 0.0299\n",
      "Epoch 12/100\n",
      "277/277 [==============================] - 0s 2ms/step - loss: 0.0284 - val_loss: 0.0294\n",
      "Epoch 13/100\n",
      "277/277 [==============================] - 0s 2ms/step - loss: 0.0284 - val_loss: 0.0292\n",
      "Epoch 14/100\n",
      "277/277 [==============================] - 0s 2ms/step - loss: 0.0283 - val_loss: 0.0289\n",
      "Epoch 15/100\n",
      "277/277 [==============================] - 0s 2ms/step - loss: 0.0283 - val_loss: 0.0290\n",
      "Epoch 16/100\n",
      "277/277 [==============================] - 0s 2ms/step - loss: 0.0283 - val_loss: 0.0293\n",
      "Epoch 17/100\n",
      "277/277 [==============================] - 0s 2ms/step - loss: 0.0280 - val_loss: 0.0291\n",
      "Epoch 18/100\n",
      "277/277 [==============================] - 0s 2ms/step - loss: 0.0281 - val_loss: 0.0288\n",
      "Epoch 19/100\n",
      "277/277 [==============================] - 0s 2ms/step - loss: 0.0279 - val_loss: 0.0289\n",
      "Epoch 20/100\n",
      "277/277 [==============================] - 0s 2ms/step - loss: 0.0279 - val_loss: 0.0288\n",
      "Epoch 21/100\n",
      "277/277 [==============================] - 0s 2ms/step - loss: 0.0278 - val_loss: 0.0286\n",
      "Epoch 22/100\n",
      "277/277 [==============================] - 0s 2ms/step - loss: 0.0278 - val_loss: 0.0287\n",
      "Epoch 23/100\n",
      "277/277 [==============================] - 0s 2ms/step - loss: 0.0278 - val_loss: 0.0285\n",
      "Epoch 24/100\n",
      "277/277 [==============================] - 0s 2ms/step - loss: 0.0277 - val_loss: 0.0285\n",
      "Epoch 25/100\n",
      "277/277 [==============================] - 0s 2ms/step - loss: 0.0277 - val_loss: 0.0285\n",
      "Epoch 26/100\n",
      "277/277 [==============================] - 0s 2ms/step - loss: 0.0276 - val_loss: 0.0285\n",
      "Epoch 27/100\n",
      "277/277 [==============================] - 0s 2ms/step - loss: 0.0277 - val_loss: 0.0285\n",
      "Epoch 28/100\n",
      "277/277 [==============================] - 0s 2ms/step - loss: 0.0276 - val_loss: 0.0284\n",
      "Epoch 29/100\n",
      "277/277 [==============================] - 0s 2ms/step - loss: 0.0276 - val_loss: 0.0283\n",
      "Epoch 30/100\n",
      "277/277 [==============================] - 0s 2ms/step - loss: 0.0275 - val_loss: 0.0284\n",
      "Epoch 31/100\n",
      "277/277 [==============================] - 0s 2ms/step - loss: 0.0275 - val_loss: 0.0284\n",
      "Epoch 32/100\n",
      "277/277 [==============================] - 0s 2ms/step - loss: 0.0275 - val_loss: 0.0284\n",
      "Epoch 33/100\n",
      "277/277 [==============================] - 0s 2ms/step - loss: 0.0275 - val_loss: 0.0283\n",
      "Epoch 34/100\n",
      "277/277 [==============================] - 0s 2ms/step - loss: 0.0275 - val_loss: 0.0284\n",
      "Epoch 35/100\n",
      "277/277 [==============================] - 0s 2ms/step - loss: 0.0275 - val_loss: 0.0284\n",
      "Epoch 36/100\n",
      "277/277 [==============================] - 0s 2ms/step - loss: 0.0274 - val_loss: 0.0285\n",
      "Epoch 37/100\n",
      "277/277 [==============================] - 0s 2ms/step - loss: 0.0274 - val_loss: 0.0283\n",
      "Epoch 38/100\n",
      "277/277 [==============================] - 0s 2ms/step - loss: 0.0274 - val_loss: 0.0283\n",
      "Epoch 39/100\n",
      "277/277 [==============================] - 0s 2ms/step - loss: 0.0273 - val_loss: 0.0284\n",
      "Epoch 40/100\n",
      "277/277 [==============================] - 0s 2ms/step - loss: 0.0274 - val_loss: 0.0284\n",
      "Epoch 41/100\n",
      "277/277 [==============================] - 0s 2ms/step - loss: 0.0274 - val_loss: 0.0283\n",
      "Epoch 42/100\n",
      "277/277 [==============================] - 0s 2ms/step - loss: 0.0274 - val_loss: 0.0284\n",
      "Epoch 43/100\n",
      "277/277 [==============================] - 0s 2ms/step - loss: 0.0274 - val_loss: 0.0283\n",
      "Epoch 44/100\n",
      "277/277 [==============================] - 0s 2ms/step - loss: 0.0273 - val_loss: 0.0283\n",
      "Epoch 45/100\n",
      "277/277 [==============================] - 0s 2ms/step - loss: 0.0273 - val_loss: 0.0283\n",
      "Epoch 46/100\n",
      "277/277 [==============================] - 0s 2ms/step - loss: 0.0273 - val_loss: 0.0282\n",
      "Epoch 47/100\n",
      "277/277 [==============================] - 0s 2ms/step - loss: 0.0273 - val_loss: 0.0282\n",
      "Epoch 48/100\n",
      "277/277 [==============================] - 0s 2ms/step - loss: 0.0273 - val_loss: 0.0282\n",
      "Epoch 49/100\n",
      "277/277 [==============================] - 0s 2ms/step - loss: 0.0273 - val_loss: 0.0282\n",
      "Epoch 50/100\n",
      "277/277 [==============================] - 0s 2ms/step - loss: 0.0273 - val_loss: 0.0283\n",
      "Epoch 51/100\n",
      "277/277 [==============================] - 0s 2ms/step - loss: 0.0273 - val_loss: 0.0282\n",
      "Epoch 52/100\n",
      "277/277 [==============================] - 0s 2ms/step - loss: 0.0273 - val_loss: 0.0282\n",
      "Epoch 53/100\n",
      "277/277 [==============================] - 0s 2ms/step - loss: 0.0272 - val_loss: 0.0282\n",
      "Epoch 54/100\n",
      "277/277 [==============================] - 0s 2ms/step - loss: 0.0273 - val_loss: 0.0282\n",
      "Epoch 55/100\n",
      "277/277 [==============================] - 0s 2ms/step - loss: 0.0272 - val_loss: 0.0282\n",
      "Epoch 56/100\n",
      "277/277 [==============================] - 0s 2ms/step - loss: 0.0272 - val_loss: 0.0282\n",
      "Epoch 57/100\n",
      "277/277 [==============================] - 0s 2ms/step - loss: 0.0272 - val_loss: 0.0282\n",
      "Epoch 58/100\n",
      "277/277 [==============================] - 0s 2ms/step - loss: 0.0272 - val_loss: 0.0282\n",
      "Epoch 59/100\n",
      "277/277 [==============================] - 0s 2ms/step - loss: 0.0272 - val_loss: 0.0282\n",
      "Epoch 60/100\n",
      "277/277 [==============================] - 0s 2ms/step - loss: 0.0272 - val_loss: 0.0282\n",
      "Epoch 61/100\n",
      "277/277 [==============================] - 0s 2ms/step - loss: 0.0272 - val_loss: 0.0282\n",
      "Epoch 62/100\n",
      "277/277 [==============================] - 0s 2ms/step - loss: 0.0272 - val_loss: 0.0282\n",
      "Epoch 63/100\n",
      "277/277 [==============================] - 0s 2ms/step - loss: 0.0272 - val_loss: 0.0282\n",
      "Epoch 64/100\n",
      "277/277 [==============================] - 0s 2ms/step - loss: 0.0272 - val_loss: 0.0282\n",
      "Epoch 65/100\n",
      "277/277 [==============================] - 0s 2ms/step - loss: 0.0272 - val_loss: 0.0282\n",
      "Epoch 66/100\n",
      "277/277 [==============================] - 0s 2ms/step - loss: 0.0272 - val_loss: 0.0283\n",
      "Epoch 67/100\n",
      "277/277 [==============================] - 0s 2ms/step - loss: 0.0272 - val_loss: 0.0282\n",
      "Epoch 68/100\n",
      "277/277 [==============================] - 1s 2ms/step - loss: 0.0272 - val_loss: 0.0282\n",
      "Epoch 69/100\n",
      "277/277 [==============================] - 0s 2ms/step - loss: 0.0272 - val_loss: 0.0282\n",
      "Epoch 70/100\n",
      "277/277 [==============================] - 0s 2ms/step - loss: 0.0272 - val_loss: 0.0282\n",
      "Epoch 71/100\n",
      "277/277 [==============================] - 0s 2ms/step - loss: 0.0272 - val_loss: 0.0282\n",
      "Epoch 72/100\n",
      "277/277 [==============================] - 0s 2ms/step - loss: 0.0272 - val_loss: 0.0282\n",
      "Epoch 73/100\n",
      "277/277 [==============================] - 0s 2ms/step - loss: 0.0272 - val_loss: 0.0282\n",
      "Epoch 74/100\n",
      "277/277 [==============================] - 0s 2ms/step - loss: 0.0272 - val_loss: 0.0283\n",
      "Epoch 75/100\n",
      "277/277 [==============================] - 0s 2ms/step - loss: 0.0272 - val_loss: 0.0282\n",
      "Epoch 76/100\n",
      "277/277 [==============================] - 0s 2ms/step - loss: 0.0272 - val_loss: 0.0282\n",
      "Epoch 77/100\n",
      "277/277 [==============================] - 0s 2ms/step - loss: 0.0272 - val_loss: 0.0282\n",
      "Epoch 78/100\n",
      "277/277 [==============================] - 0s 2ms/step - loss: 0.0272 - val_loss: 0.0282\n",
      "Epoch 79/100\n",
      "277/277 [==============================] - 0s 2ms/step - loss: 0.0272 - val_loss: 0.0282\n",
      "Epoch 80/100\n",
      "277/277 [==============================] - 0s 2ms/step - loss: 0.0272 - val_loss: 0.0282\n",
      "Epoch 81/100\n"
     ]
    },
    {
     "name": "stdout",
     "output_type": "stream",
     "text": [
      "277/277 [==============================] - 0s 2ms/step - loss: 0.0272 - val_loss: 0.0282\n",
      "Epoch 82/100\n",
      "277/277 [==============================] - 0s 2ms/step - loss: 0.0272 - val_loss: 0.0282\n"
     ]
    }
   ],
   "source": [
    "num_epochs = 100\n",
    "\n",
    "early_stop = keras.callbacks.EarlyStopping(monitor='val_loss', patience=10)\n",
    "\n",
    "history = model.fit(\n",
    "    X_train, \n",
    "    y_train,\n",
    "    epochs=num_epochs,\n",
    "    batch_size=100,\n",
    "    validation_split=0.2,\n",
    "    verbose=1,\n",
    "    callbacks=[early_stop])"
   ]
  },
  {
   "cell_type": "markdown",
   "id": "98894570",
   "metadata": {},
   "source": [
    "Now we evaluate our model with the test data.\n",
    "\n",
    "We see no deviation from the train data so there isn't any obvious overfitting"
   ]
  },
  {
   "cell_type": "code",
   "execution_count": 45,
   "id": "1b14498c",
   "metadata": {},
   "outputs": [
    {
     "data": {
      "text/plain": [
       "0.028923334553837776"
      ]
     },
     "execution_count": 45,
     "metadata": {},
     "output_type": "execute_result"
    }
   ],
   "source": [
    "model.evaluate(X_test, y_test, verbose=0)"
   ]
  },
  {
   "cell_type": "code",
   "execution_count": 46,
   "id": "b20ae3aa",
   "metadata": {},
   "outputs": [
    {
     "data": {
      "image/png": "[encoded data removed]",
      "text/plain": [
       "<Figure size 432x288 with 1 Axes>"
      ]
     },
     "metadata": {
      "needs_background": "light"
     },
     "output_type": "display_data"
    }
   ],
   "source": [
    "def plot_loss(history):\n",
    "    plt.plot(history.history['loss'], label='loss')\n",
    "    plt.plot(history.history['val_loss'], label='val_loss')\n",
    "    plt.xlabel('Epoch')\n",
    "    plt.ylabel('Error')\n",
    "    plt.legend()\n",
    "    plt.grid(True)\n",
    "    \n",
    "plot_loss(history)"
   ]
  }
 ],
 "metadata": {
  "kernelspec": {
   "display_name": "Python 3",
   "language": "python",
   "name": "python3"
  },
  "language_info": {
   "codemirror_mode": {
    "name": "ipython",
    "version": 3
   },
   "file_extension": ".py",
   "mimetype": "text/x-python",
   "name": "python",
   "nbconvert_exporter": "python",
   "pygments_lexer": "ipython3",
   "version": "3.9.2"
  }
 },
 "nbformat": 4,
 "nbformat_minor": 5
}
